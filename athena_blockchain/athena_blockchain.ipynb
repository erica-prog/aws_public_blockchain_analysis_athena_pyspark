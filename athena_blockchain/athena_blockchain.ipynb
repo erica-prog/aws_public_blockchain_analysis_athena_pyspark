{
 "cells": [
  {
   "cell_type": "code",
   "execution_count": 26,
   "id": "7bb33d39",
   "metadata": {},
   "outputs": [
    {
     "name": "stdout",
     "output_type": "stream",
     "text": [
      "✅ Results will be written to: s3://athena-erika/data/results/\n"
     ]
    }
   ],
   "source": [
    "import os\n",
    "import time\n",
    "import boto3\n",
    "import logging\n",
    "import pandas as pd\n",
    "from typing import Dict\n",
    "from io import StringIO\n",
    "\n",
    "# Logging setup\n",
    "logging.basicConfig(\n",
    "    format='[%(asctime)s] p%(process)s {%(filename)s:%(lineno)d} %(levelname)s - %(message)s',\n",
    "    level=logging.INFO\n",
    ")\n",
    "logger = logging.getLogger(__name__)\n",
    "\n",
    "# Athena + S3 configuration (update with your details)\n",
    "AWS_REGION = \"us-east-2\"       \n",
    "DATABASE_NAME = \"eth\"           # from Glue (Ethereum database)\n",
    "WORKGROUP = \"primary\"           # Athena workgroup name\n",
    "S3_BUCKET_NAME = \"athena-erika\"  \n",
    "S3_STAGING_PREFIX = \"data/results\"\n",
    "S3_OUTPUT = f\"s3://{S3_BUCKET_NAME}/{S3_STAGING_PREFIX}/\"\n",
    "\n",
    "print(f\"✅ Results will be written to: {S3_OUTPUT}\")"
   ]
  },
  {
   "cell_type": "code",
   "execution_count": 27,
   "id": "bd195484",
   "metadata": {},
   "outputs": [],
   "source": [
    "athena_client = boto3.client(\"athena\", region_name=AWS_REGION)\n",
    "s3_client = boto3.client(\"s3\", region_name=AWS_REGION)"
   ]
  },
  {
   "cell_type": "code",
   "execution_count": 28,
   "id": "47421e0c",
   "metadata": {},
   "outputs": [
    {
     "name": "stdout",
     "output_type": "stream",
     "text": [
      "✅ Bucket athena-erika exists and is accessible.\n"
     ]
    }
   ],
   "source": [
    "# To check that the S3 bucket exists\n",
    "try:\n",
    "    s3_client.head_bucket(Bucket=S3_BUCKET_NAME)\n",
    "    print(f\"✅ Bucket {S3_BUCKET_NAME} exists and is accessible.\")\n",
    "except Exception as e:\n",
    "    print(f\"❌ Error accessing bucket: {e}\")"
   ]
  },
  {
   "cell_type": "code",
   "execution_count": 29,
   "id": "516f9bed",
   "metadata": {},
   "outputs": [],
   "source": [
    "# def download_and_load_query_results(client, query_response, download=True):\n",
    "#     logger.info(\"⏳ Waiting for query to finish...\")\n",
    "#     query_id = query_response[\"QueryExecutionId\"]\n",
    "\n",
    "#     # Wait for query to complete\n",
    "#     while True:\n",
    "#         status = client.get_query_execution(QueryExecutionId=query_id)\n",
    "#         state = status[\"QueryExecution\"][\"Status\"][\"State\"]\n",
    "#         if state in [\"SUCCEEDED\", \"FAILED\", \"CANCELLED\"]:\n",
    "#             break\n",
    "#         time.sleep(0.5)\n",
    "\n",
    "#     if state != \"SUCCEEDED\":\n",
    "#         raise Exception(f\"Query failed: {state}\")\n",
    "\n",
    "#     # ✅ Preview mode: just show query metadata\n",
    "#     if not download:\n",
    "#         query_info = status[\"QueryExecution\"]\n",
    "#         stats = query_info[\"Statistics\"]\n",
    "#         logger.info(f\"✅ Query succeeded. Data scanned: {stats['DataScannedInBytes']/1e6:.2f} MB\")\n",
    "#         logger.info(f\"Output location: {query_info['ResultConfiguration']['OutputLocation']}\")\n",
    "#         return None\n",
    "\n",
    "#     # Otherwise download and load into pandas\n",
    "#     temp_file = f\"athena_result_{query_id}.csv\"\n",
    "#     s3_key = f\"{S3_STAGING_PREFIX}/{query_id}.csv\"\n",
    "\n",
    "#     s3_client.download_file(S3_BUCKET_NAME, s3_key, temp_file)\n",
    "#     df = pd.read_csv(temp_file)\n",
    "#     logger.info(f\"✅ Query completed. Rows: {len(df)}\")\n",
    "#     return df\n",
    "\n",
    "def download_and_load_query_results(client, query_response, filename=\"athena_result\", download=True):\n",
    "    logger.info(\"⏳ Waiting for query to finish...\")\n",
    "    query_id = query_response[\"QueryExecutionId\"]\n",
    "\n",
    "    # Wait until query completes\n",
    "    while True:\n",
    "        status = client.get_query_execution(QueryExecutionId=query_id)\n",
    "        state = status[\"QueryExecution\"][\"Status\"][\"State\"]\n",
    "        if state in [\"SUCCEEDED\", \"FAILED\", \"CANCELLED\"]:\n",
    "            break\n",
    "        time.sleep(0.5)\n",
    "\n",
    "    if state != \"SUCCEEDED\":\n",
    "        raise Exception(f\"Query failed: {state}\")\n",
    "\n",
    "    # Preview-only mode\n",
    "    if not download:\n",
    "        query_info = status[\"QueryExecution\"]\n",
    "        stats = query_info[\"Statistics\"]\n",
    "        logger.info(f\"✅ Query succeeded. Data scanned: {stats['DataScannedInBytes']/1e6:.2f} MB\")\n",
    "        logger.info(f\"Output location: {query_info['ResultConfiguration']['OutputLocation']}\")\n",
    "        return None\n",
    "\n",
    "    # ✅ Step 1: Read result from S3\n",
    "    s3_key = f\"{S3_STAGING_PREFIX}/{query_id}.csv\"\n",
    "    obj = s3_client.get_object(Bucket=S3_BUCKET_NAME, Key=s3_key)\n",
    "    df = pd.read_csv(StringIO(obj[\"Body\"].read().decode(\"utf-8\")))\n",
    "\n",
    "    # ✅ Step 2: Save with a friendly name\n",
    "    local_filename = f\"{filename}.csv\"\n",
    "    df.to_csv(local_filename, index=False)\n",
    "    logger.info(f\"📁 Saved query result locally as {local_filename}\")\n",
    "\n",
    "    # (Optional) Step 3: Re-upload with same nice name to S3\n",
    "    s3_client.upload_file(local_filename, S3_BUCKET_NAME, f\"{S3_STAGING_PREFIX}/{local_filename}\")\n",
    "    logger.info(f\"Uploaded to s3://{S3_BUCKET_NAME}/{S3_STAGING_PREFIX}/{local_filename}\")\n",
    "\n",
    "    logger.info(f\"✅ Query completed. Rows: {len(df)}\")\n",
    "    return df\n"
   ]
  },
  {
   "cell_type": "markdown",
   "id": "a532034d",
   "metadata": {},
   "source": [
    "# DATA ANALYSIS\n",
    "## 1. Overview of Ethereum Blocks"
   ]
  },
  {
   "cell_type": "code",
   "execution_count": 33,
   "id": "c6404407",
   "metadata": {},
   "outputs": [
    {
     "name": "stderr",
     "output_type": "stream",
     "text": [
      "[2025-10-10 20:14:27,926] p21995 {3992468325.py:34} INFO - ⏳ Waiting for query to finish...\n",
      "[2025-10-10 20:14:35,759] p21995 {3992468325.py:52} INFO - ✅ Query succeeded. Data scanned: 31.08 MB\n",
      "[2025-10-10 20:14:35,759] p21995 {3992468325.py:53} INFO - Output location: s3://athena-erika/data/results/441b1c67-924c-487b-9ebb-688e8d050390.csv\n",
      "[2025-10-10 20:14:37,575] p21995 {3992468325.py:34} INFO - ⏳ Waiting for query to finish...\n",
      "[2025-10-10 20:14:37,826] p21995 {3992468325.py:64} INFO - 📁 Saved query result locally as network_overview.csv\n",
      "[2025-10-10 20:14:37,924] p21995 {3992468325.py:68} INFO - Uploaded to s3://athena-erika/data/results/network_overview.csv\n",
      "[2025-10-10 20:14:37,925] p21995 {3992468325.py:70} INFO - ✅ Query completed. Rows: 1\n"
     ]
    },
    {
     "data": {
      "application/vnd.microsoft.datawrangler.viewer.v0+json": {
       "columns": [
        {
         "name": "index",
         "rawType": "int64",
         "type": "integer"
        },
        {
         "name": "earliest_date",
         "rawType": "object",
         "type": "string"
        },
        {
         "name": "latest_date",
         "rawType": "object",
         "type": "string"
        },
        {
         "name": "days_of_data",
         "rawType": "int64",
         "type": "integer"
        },
        {
         "name": "total_transactions",
         "rawType": "int64",
         "type": "integer"
        },
        {
         "name": "total_blocks",
         "rawType": "int64",
         "type": "integer"
        }
       ],
       "ref": "dfe9ae41-80bc-44f9-898c-36410a9deb4a",
       "rows": [
        [
         "0",
         "2015-07-30",
         "2025-10-09",
         "3725",
         "3032681982",
         "23543615"
        ]
       ],
       "shape": {
        "columns": 5,
        "rows": 1
       }
      },
      "text/html": [
       "<div>\n",
       "<style scoped>\n",
       "    .dataframe tbody tr th:only-of-type {\n",
       "        vertical-align: middle;\n",
       "    }\n",
       "\n",
       "    .dataframe tbody tr th {\n",
       "        vertical-align: top;\n",
       "    }\n",
       "\n",
       "    .dataframe thead th {\n",
       "        text-align: right;\n",
       "    }\n",
       "</style>\n",
       "<table border=\"1\" class=\"dataframe\">\n",
       "  <thead>\n",
       "    <tr style=\"text-align: right;\">\n",
       "      <th></th>\n",
       "      <th>earliest_date</th>\n",
       "      <th>latest_date</th>\n",
       "      <th>days_of_data</th>\n",
       "      <th>total_transactions</th>\n",
       "      <th>total_blocks</th>\n",
       "    </tr>\n",
       "  </thead>\n",
       "  <tbody>\n",
       "    <tr>\n",
       "      <th>0</th>\n",
       "      <td>2015-07-30</td>\n",
       "      <td>2025-10-09</td>\n",
       "      <td>3725</td>\n",
       "      <td>3032681982</td>\n",
       "      <td>23543615</td>\n",
       "    </tr>\n",
       "  </tbody>\n",
       "</table>\n",
       "</div>"
      ],
      "text/plain": [
       "  earliest_date latest_date  days_of_data  total_transactions  total_blocks\n",
       "0    2015-07-30  2025-10-09          3725          3032681982      23543615"
      ]
     },
     "metadata": {},
     "output_type": "display_data"
    },
    {
     "name": "stderr",
     "output_type": "stream",
     "text": [
      "[2025-10-10 20:14:37,930] p21995 {4184522636.py:31} INFO - Data fetched in 10.13s\n"
     ]
    }
   ],
   "source": [
    "query = '''\n",
    "SELECT \n",
    "    MIN(date) AS earliest_date,\n",
    "    MAX(date) AS latest_date,\n",
    "    COUNT(DISTINCT date) AS days_of_data,\n",
    "    SUM(transaction_count) AS total_transactions,\n",
    "    COUNT(*) AS total_blocks\n",
    "FROM eth.blocks;\n",
    "'''\n",
    "\n",
    "start_time = time.time()\n",
    "response = athena_client.start_query_execution(\n",
    "    QueryString=query,\n",
    "    QueryExecutionContext={\"Database\": DATABASE_NAME},\n",
    "    ResultConfiguration={\"OutputLocation\": S3_OUTPUT},\n",
    ")\n",
    "\n",
    "# ---------------------------------------\n",
    "# Step 1: Preview results (no download)\n",
    "# ---------------------------------------\n",
    "download_and_load_query_results(athena_client, response, download=False)\n",
    "\n",
    "# ---------------------------------------\n",
    "# Step 2: Ask whether to download\n",
    "# ---------------------------------------\n",
    "confirm = input(\"Download results? (y/n): \").lower()\n",
    "if confirm == \"y\":\n",
    "    network_overview = download_and_load_query_results(athena_client, response,  filename=\"network_overview\", download=True)\n",
    "    display(network_overview.head())\n",
    "\n",
    "logger.info(f\"Data fetched in {time.time() - start_time:.2f}s\")\n"
   ]
  },
  {
   "cell_type": "markdown",
   "id": "7c802f7c",
   "metadata": {},
   "source": [
    "## 2. Network Health & Activity Trends\n",
    "\n",
    "### How has daily network activity evolved over the past 30 days?"
   ]
  },
  {
   "cell_type": "code",
   "execution_count": 34,
   "id": "b1a13ec6",
   "metadata": {},
   "outputs": [
    {
     "name": "stderr",
     "output_type": "stream",
     "text": [
      "[2025-10-10 20:14:54,081] p21995 {3992468325.py:34} INFO - ⏳ Waiting for query to finish...\n",
      "[2025-10-10 20:14:55,821] p21995 {3992468325.py:52} INFO - ✅ Query succeeded. Data scanned: 3.50 MB\n",
      "[2025-10-10 20:14:55,823] p21995 {3992468325.py:53} INFO - Output location: s3://athena-erika/data/results/04b67cce-7d7b-4320-af16-30620eb5a8b7.csv\n",
      "[2025-10-10 20:14:57,935] p21995 {3992468325.py:34} INFO - ⏳ Waiting for query to finish...\n",
      "[2025-10-10 20:14:58,054] p21995 {3992468325.py:64} INFO - 📁 Saved query result locally as daily_network_activity_last30days.csv\n",
      "[2025-10-10 20:14:58,152] p21995 {3992468325.py:68} INFO - Uploaded to s3://athena-erika/data/results/daily_network_activity_last30days.csv\n",
      "[2025-10-10 20:14:58,153] p21995 {3992468325.py:70} INFO - ✅ Query completed. Rows: 29\n"
     ]
    },
    {
     "data": {
      "application/vnd.microsoft.datawrangler.viewer.v0+json": {
       "columns": [
        {
         "name": "index",
         "rawType": "int64",
         "type": "integer"
        },
        {
         "name": "date",
         "rawType": "object",
         "type": "string"
        },
        {
         "name": "total_blocks",
         "rawType": "int64",
         "type": "integer"
        },
        {
         "name": "total_transactions",
         "rawType": "int64",
         "type": "integer"
        },
        {
         "name": "avg_gas_used",
         "rawType": "int64",
         "type": "integer"
        },
        {
         "name": "avg_block_utilization_pct",
         "rawType": "float64",
         "type": "float"
        },
        {
         "name": "total_data_mb",
         "rawType": "int64",
         "type": "integer"
        }
       ],
       "ref": "c665b4b1-d570-4f7a-9551-051082b91ae7",
       "rows": [
        [
         "0",
         "2025-10-09",
         "7155",
         "1594069",
         "22722948",
         "50.5099",
         "851"
        ],
        [
         "1",
         "2025-10-08",
         "7140",
         "1616085",
         "22716619",
         "50.4993",
         "858"
        ],
        [
         "2",
         "2025-10-07",
         "7158",
         "1595109",
         "22725828",
         "50.5119",
         "876"
        ],
        [
         "3",
         "2025-10-06",
         "7151",
         "1576776",
         "22768085",
         "50.6119",
         "842"
        ],
        [
         "4",
         "2025-10-05",
         "7163",
         "1387207",
         "22773428",
         "50.6237",
         "785"
        ]
       ],
       "shape": {
        "columns": 6,
        "rows": 5
       }
      },
      "text/html": [
       "<div>\n",
       "<style scoped>\n",
       "    .dataframe tbody tr th:only-of-type {\n",
       "        vertical-align: middle;\n",
       "    }\n",
       "\n",
       "    .dataframe tbody tr th {\n",
       "        vertical-align: top;\n",
       "    }\n",
       "\n",
       "    .dataframe thead th {\n",
       "        text-align: right;\n",
       "    }\n",
       "</style>\n",
       "<table border=\"1\" class=\"dataframe\">\n",
       "  <thead>\n",
       "    <tr style=\"text-align: right;\">\n",
       "      <th></th>\n",
       "      <th>date</th>\n",
       "      <th>total_blocks</th>\n",
       "      <th>total_transactions</th>\n",
       "      <th>avg_gas_used</th>\n",
       "      <th>avg_block_utilization_pct</th>\n",
       "      <th>total_data_mb</th>\n",
       "    </tr>\n",
       "  </thead>\n",
       "  <tbody>\n",
       "    <tr>\n",
       "      <th>0</th>\n",
       "      <td>2025-10-09</td>\n",
       "      <td>7155</td>\n",
       "      <td>1594069</td>\n",
       "      <td>22722948</td>\n",
       "      <td>50.5099</td>\n",
       "      <td>851</td>\n",
       "    </tr>\n",
       "    <tr>\n",
       "      <th>1</th>\n",
       "      <td>2025-10-08</td>\n",
       "      <td>7140</td>\n",
       "      <td>1616085</td>\n",
       "      <td>22716619</td>\n",
       "      <td>50.4993</td>\n",
       "      <td>858</td>\n",
       "    </tr>\n",
       "    <tr>\n",
       "      <th>2</th>\n",
       "      <td>2025-10-07</td>\n",
       "      <td>7158</td>\n",
       "      <td>1595109</td>\n",
       "      <td>22725828</td>\n",
       "      <td>50.5119</td>\n",
       "      <td>876</td>\n",
       "    </tr>\n",
       "    <tr>\n",
       "      <th>3</th>\n",
       "      <td>2025-10-06</td>\n",
       "      <td>7151</td>\n",
       "      <td>1576776</td>\n",
       "      <td>22768085</td>\n",
       "      <td>50.6119</td>\n",
       "      <td>842</td>\n",
       "    </tr>\n",
       "    <tr>\n",
       "      <th>4</th>\n",
       "      <td>2025-10-05</td>\n",
       "      <td>7163</td>\n",
       "      <td>1387207</td>\n",
       "      <td>22773428</td>\n",
       "      <td>50.6237</td>\n",
       "      <td>785</td>\n",
       "    </tr>\n",
       "  </tbody>\n",
       "</table>\n",
       "</div>"
      ],
      "text/plain": [
       "         date  total_blocks  total_transactions  avg_gas_used  \\\n",
       "0  2025-10-09          7155             1594069      22722948   \n",
       "1  2025-10-08          7140             1616085      22716619   \n",
       "2  2025-10-07          7158             1595109      22725828   \n",
       "3  2025-10-06          7151             1576776      22768085   \n",
       "4  2025-10-05          7163             1387207      22773428   \n",
       "\n",
       "   avg_block_utilization_pct  total_data_mb  \n",
       "0                    50.5099            851  \n",
       "1                    50.4993            858  \n",
       "2                    50.5119            876  \n",
       "3                    50.6119            842  \n",
       "4                    50.6237            785  "
      ]
     },
     "metadata": {},
     "output_type": "display_data"
    },
    {
     "name": "stderr",
     "output_type": "stream",
     "text": [
      "[2025-10-10 20:14:58,161] p21995 {717619233.py:38} INFO - Data fetched in 4.18s\n"
     ]
    }
   ],
   "source": [
    "query = '''\n",
    "SELECT \n",
    "    date,\n",
    "    COUNT(DISTINCT number) as total_blocks,\n",
    "    SUM(transaction_count) as total_transactions,\n",
    "    CAST(AVG(gas_used) AS BIGINT) as avg_gas_used,\n",
    "    ROUND(AVG(CAST(gas_used AS DOUBLE) / CAST(gas_limit AS DOUBLE) * 100), 4) as avg_block_utilization_pct,\n",
    "    SUM(size) / 1024 / 1024 as total_data_mb\n",
    "FROM eth.blocks\n",
    "WHERE date >= DATE_FORMAT(CURRENT_DATE - INTERVAL '30' DAY, '%Y-%m-%d')\n",
    "GROUP BY date\n",
    "ORDER BY date DESC;\n",
    "'''\n",
    "\n",
    "start_time = time.time()\n",
    "response = athena_client.start_query_execution(\n",
    "    QueryString=query,\n",
    "    QueryExecutionContext={\"Database\": DATABASE_NAME},\n",
    "    ResultConfiguration={\n",
    "        \"OutputLocation\": S3_OUTPUT,\n",
    "        \"EncryptionConfiguration\": {\"EncryptionOption\": \"SSE_S3\"},\n",
    "    },\n",
    ")\n",
    "\n",
    "# ---------------------------------------\n",
    "# Step 1: Preview results (no download)\n",
    "# ---------------------------------------\n",
    "download_and_load_query_results(athena_client, response, download=False)\n",
    "\n",
    "# ---------------------------------------\n",
    "# Step 2: Ask whether to download\n",
    "# ---------------------------------------\n",
    "confirm = input(\"Download results? (y/n): \").lower()\n",
    "if confirm == \"y\":\n",
    "    daily_network_activity_last30days = download_and_load_query_results(athena_client, response,  filename=\"daily_network_activity_last30days\", download=True)\n",
    "    display(daily_network_activity_last30days.head())\n",
    "\n",
    "logger.info(f\"Data fetched in {time.time() - start_time:.2f}s\")\n"
   ]
  },
  {
   "cell_type": "markdown",
   "id": "2c36961b",
   "metadata": {},
   "source": [
    "## 3. Gas Economics & Fee Analysis \n",
    "\n",
    "### What are the gas price patterns and transaction fee economics in the last 7 days?"
   ]
  },
  {
   "cell_type": "code",
   "execution_count": 37,
   "id": "9c6046fb",
   "metadata": {},
   "outputs": [
    {
     "name": "stderr",
     "output_type": "stream",
     "text": [
      "[2025-10-10 20:19:07,475] p21995 {3992468325.py:34} INFO - ⏳ Waiting for query to finish...\n",
      "[2025-10-10 20:19:09,732] p21995 {3992468325.py:52} INFO - ✅ Query succeeded. Data scanned: 72.46 MB\n",
      "[2025-10-10 20:19:09,733] p21995 {3992468325.py:53} INFO - Output location: s3://athena-erika/data/results/0a060568-9a8e-48f4-9b57-30060d74707a.csv\n",
      "[2025-10-10 20:19:12,422] p21995 {3992468325.py:34} INFO - ⏳ Waiting for query to finish...\n",
      "[2025-10-10 20:19:12,680] p21995 {3992468325.py:64} INFO - 📁 Saved query result locally as gas_price_analysis_last7days.csv\n",
      "[2025-10-10 20:19:12,801] p21995 {3992468325.py:68} INFO - Uploaded to s3://athena-erika/data/results/gas_price_analysis_last7days.csv\n",
      "[2025-10-10 20:19:12,802] p21995 {3992468325.py:70} INFO - ✅ Query completed. Rows: 6\n"
     ]
    },
    {
     "data": {
      "application/vnd.microsoft.datawrangler.viewer.v0+json": {
       "columns": [
        {
         "name": "index",
         "rawType": "int64",
         "type": "integer"
        },
        {
         "name": "date",
         "rawType": "object",
         "type": "string"
        },
        {
         "name": "tx_count",
         "rawType": "int64",
         "type": "integer"
        },
        {
         "name": "avg_gas_price_gwei",
         "rawType": "float64",
         "type": "float"
        },
        {
         "name": "median_gas_price_gwei",
         "rawType": "float64",
         "type": "float"
        },
        {
         "name": "p95_gas_price_gwei",
         "rawType": "float64",
         "type": "float"
        },
        {
         "name": "max_gas_price_gwei",
         "rawType": "float64",
         "type": "float"
        },
        {
         "name": "total_fees_eth",
         "rawType": "float64",
         "type": "float"
        },
        {
         "name": "avg_gas_per_tx",
         "rawType": "float64",
         "type": "float"
        }
       ],
       "ref": "23c32101-3519-4f07-bb7b-72b4e1b41e3a",
       "rows": [
        [
         "0",
         "2025-10-09",
         "1575935",
         "1.440534711811779",
         "0.8284403691799282",
         "3.1719296619196595",
         "44031.574685198",
         "211.5254385297703",
         "101199.6163959808"
        ],
        [
         "1",
         "2025-10-08",
         "1599094",
         "1.181980016000568",
         "0.6197377970141368",
         "2.667649358395892",
         "10631.669921459",
         "175.18230101191045",
         "99792.5655070934"
        ],
        [
         "2",
         "2025-10-07",
         "1574221",
         "1.7392330028859582",
         "0.9748707387049836",
         "4.835812440323311",
         "8871.049230172",
         "265.9137417310638",
         "100896.8757385399"
        ],
        [
         "3",
         "2025-10-06",
         "1551318",
         "1.8115917099829928",
         "1.1170766950296718",
         "4.814107926766709",
         "22259.295668811",
         "274.3815130641796",
         "102687.22676201785"
        ],
        [
         "4",
         "2025-10-05",
         "1369725",
         "0.9781025396700722",
         "0.2811561917698164",
         "2.1763682647346236",
         "41202.812041127",
         "130.9590385750815",
         "117250.40554490864"
        ]
       ],
       "shape": {
        "columns": 8,
        "rows": 5
       }
      },
      "text/html": [
       "<div>\n",
       "<style scoped>\n",
       "    .dataframe tbody tr th:only-of-type {\n",
       "        vertical-align: middle;\n",
       "    }\n",
       "\n",
       "    .dataframe tbody tr th {\n",
       "        vertical-align: top;\n",
       "    }\n",
       "\n",
       "    .dataframe thead th {\n",
       "        text-align: right;\n",
       "    }\n",
       "</style>\n",
       "<table border=\"1\" class=\"dataframe\">\n",
       "  <thead>\n",
       "    <tr style=\"text-align: right;\">\n",
       "      <th></th>\n",
       "      <th>date</th>\n",
       "      <th>tx_count</th>\n",
       "      <th>avg_gas_price_gwei</th>\n",
       "      <th>median_gas_price_gwei</th>\n",
       "      <th>p95_gas_price_gwei</th>\n",
       "      <th>max_gas_price_gwei</th>\n",
       "      <th>total_fees_eth</th>\n",
       "      <th>avg_gas_per_tx</th>\n",
       "    </tr>\n",
       "  </thead>\n",
       "  <tbody>\n",
       "    <tr>\n",
       "      <th>0</th>\n",
       "      <td>2025-10-09</td>\n",
       "      <td>1575935</td>\n",
       "      <td>1.440535</td>\n",
       "      <td>0.828440</td>\n",
       "      <td>3.171930</td>\n",
       "      <td>44031.574685</td>\n",
       "      <td>211.525439</td>\n",
       "      <td>101199.616396</td>\n",
       "    </tr>\n",
       "    <tr>\n",
       "      <th>1</th>\n",
       "      <td>2025-10-08</td>\n",
       "      <td>1599094</td>\n",
       "      <td>1.181980</td>\n",
       "      <td>0.619738</td>\n",
       "      <td>2.667649</td>\n",
       "      <td>10631.669921</td>\n",
       "      <td>175.182301</td>\n",
       "      <td>99792.565507</td>\n",
       "    </tr>\n",
       "    <tr>\n",
       "      <th>2</th>\n",
       "      <td>2025-10-07</td>\n",
       "      <td>1574221</td>\n",
       "      <td>1.739233</td>\n",
       "      <td>0.974871</td>\n",
       "      <td>4.835812</td>\n",
       "      <td>8871.049230</td>\n",
       "      <td>265.913742</td>\n",
       "      <td>100896.875739</td>\n",
       "    </tr>\n",
       "    <tr>\n",
       "      <th>3</th>\n",
       "      <td>2025-10-06</td>\n",
       "      <td>1551318</td>\n",
       "      <td>1.811592</td>\n",
       "      <td>1.117077</td>\n",
       "      <td>4.814108</td>\n",
       "      <td>22259.295669</td>\n",
       "      <td>274.381513</td>\n",
       "      <td>102687.226762</td>\n",
       "    </tr>\n",
       "    <tr>\n",
       "      <th>4</th>\n",
       "      <td>2025-10-05</td>\n",
       "      <td>1369725</td>\n",
       "      <td>0.978103</td>\n",
       "      <td>0.281156</td>\n",
       "      <td>2.176368</td>\n",
       "      <td>41202.812041</td>\n",
       "      <td>130.959039</td>\n",
       "      <td>117250.405545</td>\n",
       "    </tr>\n",
       "  </tbody>\n",
       "</table>\n",
       "</div>"
      ],
      "text/plain": [
       "         date  tx_count  avg_gas_price_gwei  median_gas_price_gwei  \\\n",
       "0  2025-10-09   1575935            1.440535               0.828440   \n",
       "1  2025-10-08   1599094            1.181980               0.619738   \n",
       "2  2025-10-07   1574221            1.739233               0.974871   \n",
       "3  2025-10-06   1551318            1.811592               1.117077   \n",
       "4  2025-10-05   1369725            0.978103               0.281156   \n",
       "\n",
       "   p95_gas_price_gwei  max_gas_price_gwei  total_fees_eth  avg_gas_per_tx  \n",
       "0            3.171930        44031.574685      211.525439   101199.616396  \n",
       "1            2.667649        10631.669921      175.182301    99792.565507  \n",
       "2            4.835812         8871.049230      265.913742   100896.875739  \n",
       "3            4.814108        22259.295669      274.381513   102687.226762  \n",
       "4            2.176368        41202.812041      130.959039   117250.405545  "
      ]
     },
     "metadata": {},
     "output_type": "display_data"
    },
    {
     "name": "stderr",
     "output_type": "stream",
     "text": [
      "[2025-10-10 20:19:12,812] p21995 {563769666.py:43} INFO - Data fetched in 5.42s\n"
     ]
    }
   ],
   "source": [
    "query = '''\n",
    "-- Gas Price Analysis & Fee Distribution (last 7 days)\n",
    "SELECT \n",
    "    date,\n",
    "    COUNT(*) as tx_count,\n",
    "    AVG(CAST(gas_price AS DOUBLE) / 1e9) as avg_gas_price_gwei,\n",
    "    APPROX_PERCENTILE(CAST(gas_price AS DOUBLE) / 1e9, 0.5) as median_gas_price_gwei,\n",
    "    APPROX_PERCENTILE(CAST(gas_price AS DOUBLE) / 1e9, 0.95) as p95_gas_price_gwei,\n",
    "    MAX(CAST(gas_price AS DOUBLE) / 1e9) as max_gas_price_gwei,\n",
    "    SUM(CAST(receipt_gas_used AS DOUBLE) * CAST(gas_price AS DOUBLE)) / 1e18 as total_fees_eth,\n",
    "    AVG(CAST(receipt_gas_used AS DOUBLE)) as avg_gas_per_tx\n",
    "FROM eth.transactions\n",
    "WHERE date >= DATE_FORMAT(CURRENT_DATE - INTERVAL '7' DAY, '%Y-%m-%d')\n",
    "    AND receipt_status = 1\n",
    "GROUP BY date\n",
    "ORDER BY date DESC;\n",
    "'''\n",
    "start_time = time.time()\n",
    "response = athena_client.start_query_execution(\n",
    "    QueryString=query,\n",
    "    QueryExecutionContext={\"Database\": DATABASE_NAME},\n",
    "    ResultConfiguration={\n",
    "        \"OutputLocation\": S3_OUTPUT,\n",
    "        \"EncryptionConfiguration\": {\"EncryptionOption\": \"SSE_S3\"},\n",
    "    },\n",
    ")           \n",
    "# ---------------------------------------\n",
    "# Step 1: Preview results (no download)\n",
    "# ---------------------------------------\n",
    "download_and_load_query_results(athena_client, response, download=False)  \n",
    "\n",
    "\n",
    "          \n",
    "\n",
    "# ---------------------------------------\n",
    "# Step 2: Ask whether to download\n",
    "# ---------------------------------------\n",
    "confirm = input(\"Download results? (y/n): \").lower()\n",
    "if confirm == \"y\":\n",
    "    gas_price_analysis_last7days = download_and_load_query_results(athena_client, response,  filename=\"gas_price_analysis_last7days\", download=True)\n",
    "    display(gas_price_analysis_last7days.head())\n",
    "\n",
    "logger.info(f\"Data fetched in {time.time() - start_time:.2f}s\")"
   ]
  },
  {
   "cell_type": "markdown",
   "id": "00d76a22",
   "metadata": {},
   "source": [
    "## 4. Whale Wallet Activity\n",
    "\n",
    "### Who are the biggest ETH movers and what are they doing?"
   ]
  },
  {
   "cell_type": "code",
   "execution_count": 39,
   "id": "a348b438",
   "metadata": {},
   "outputs": [
    {
     "name": "stderr",
     "output_type": "stream",
     "text": [
      "[2025-10-10 20:23:37,962] p21995 {3992468325.py:34} INFO - ⏳ Waiting for query to finish...\n",
      "[2025-10-10 20:23:42,993] p21995 {3992468325.py:52} INFO - ✅ Query succeeded. Data scanned: 634.77 MB\n",
      "[2025-10-10 20:23:42,994] p21995 {3992468325.py:53} INFO - Output location: s3://athena-erika/data/results/e896fca9-4d52-44bd-b06c-1fd226cfe39b.csv\n",
      "[2025-10-10 20:23:47,349] p21995 {3992468325.py:34} INFO - ⏳ Waiting for query to finish...\n",
      "[2025-10-10 20:23:47,744] p21995 {3992468325.py:64} INFO - 📁 Saved query result locally as top_whale_wallets_last7days.csv\n",
      "[2025-10-10 20:23:47,861] p21995 {3992468325.py:68} INFO - Uploaded to s3://athena-erika/data/results/top_whale_wallets_last7days.csv\n",
      "[2025-10-10 20:23:47,861] p21995 {3992468325.py:70} INFO - ✅ Query completed. Rows: 20\n"
     ]
    },
    {
     "data": {
      "application/vnd.microsoft.datawrangler.viewer.v0+json": {
       "columns": [
        {
         "name": "index",
         "rawType": "int64",
         "type": "integer"
        },
        {
         "name": "from_address",
         "rawType": "object",
         "type": "string"
        },
        {
         "name": "tx_count",
         "rawType": "int64",
         "type": "integer"
        },
        {
         "name": "total_eth_sent",
         "rawType": "float64",
         "type": "float"
        },
        {
         "name": "avg_eth_per_tx",
         "rawType": "float64",
         "type": "float"
        },
        {
         "name": "total_gas_paid_eth",
         "rawType": "float64",
         "type": "float"
        },
        {
         "name": "contracts_deployed",
         "rawType": "int64",
         "type": "integer"
        },
        {
         "name": "unique_recipients",
         "rawType": "int64",
         "type": "integer"
        }
       ],
       "ref": "d0d8d282-f511-41dc-9409-df0a061c896d",
       "rows": [
        [
         "0",
         "0x28c6c06298d514db089934071355e5743bf21d60",
         "12436",
         "812185.4103671102",
         "65.3092160153675",
         "0.2036119167666155",
         "0",
         "10540"
        ],
        [
         "1",
         "0xb5d85cbf7cb3ee0d56b3bb207d5fc4b82f43f511",
         "1738",
         "491387.8402640574",
         "282.7317838113104",
         "0.0530588595184408",
         "0",
         "1650"
        ],
        [
         "2",
         "0xcd531ae9efcce479654c4926dec5f6209531ca7b",
         "182",
         "341981.18809644086",
         "1879.0175170134116",
         "0.0035966601395161",
         "0",
         "122"
        ],
        [
         "3",
         "0xceb69f6342ece283b2f5c9088ff249b5d0ae66ea",
         "169",
         "336212.8562774949",
         "1989.4251850739347",
         "0.0039896053055354",
         "0",
         "109"
        ],
        [
         "4",
         "0xeae7380dd4cef6fbd1144f49e4d1e6964258a4f4",
         "238",
         "288677.5411275604",
         "1212.9308450737833",
         "0.003463499121516",
         "0",
         "1"
        ]
       ],
       "shape": {
        "columns": 7,
        "rows": 5
       }
      },
      "text/html": [
       "<div>\n",
       "<style scoped>\n",
       "    .dataframe tbody tr th:only-of-type {\n",
       "        vertical-align: middle;\n",
       "    }\n",
       "\n",
       "    .dataframe tbody tr th {\n",
       "        vertical-align: top;\n",
       "    }\n",
       "\n",
       "    .dataframe thead th {\n",
       "        text-align: right;\n",
       "    }\n",
       "</style>\n",
       "<table border=\"1\" class=\"dataframe\">\n",
       "  <thead>\n",
       "    <tr style=\"text-align: right;\">\n",
       "      <th></th>\n",
       "      <th>from_address</th>\n",
       "      <th>tx_count</th>\n",
       "      <th>total_eth_sent</th>\n",
       "      <th>avg_eth_per_tx</th>\n",
       "      <th>total_gas_paid_eth</th>\n",
       "      <th>contracts_deployed</th>\n",
       "      <th>unique_recipients</th>\n",
       "    </tr>\n",
       "  </thead>\n",
       "  <tbody>\n",
       "    <tr>\n",
       "      <th>0</th>\n",
       "      <td>0x28c6c06298d514db089934071355e5743bf21d60</td>\n",
       "      <td>12436</td>\n",
       "      <td>812185.410367</td>\n",
       "      <td>65.309216</td>\n",
       "      <td>0.203612</td>\n",
       "      <td>0</td>\n",
       "      <td>10540</td>\n",
       "    </tr>\n",
       "    <tr>\n",
       "      <th>1</th>\n",
       "      <td>0xb5d85cbf7cb3ee0d56b3bb207d5fc4b82f43f511</td>\n",
       "      <td>1738</td>\n",
       "      <td>491387.840264</td>\n",
       "      <td>282.731784</td>\n",
       "      <td>0.053059</td>\n",
       "      <td>0</td>\n",
       "      <td>1650</td>\n",
       "    </tr>\n",
       "    <tr>\n",
       "      <th>2</th>\n",
       "      <td>0xcd531ae9efcce479654c4926dec5f6209531ca7b</td>\n",
       "      <td>182</td>\n",
       "      <td>341981.188096</td>\n",
       "      <td>1879.017517</td>\n",
       "      <td>0.003597</td>\n",
       "      <td>0</td>\n",
       "      <td>122</td>\n",
       "    </tr>\n",
       "    <tr>\n",
       "      <th>3</th>\n",
       "      <td>0xceb69f6342ece283b2f5c9088ff249b5d0ae66ea</td>\n",
       "      <td>169</td>\n",
       "      <td>336212.856277</td>\n",
       "      <td>1989.425185</td>\n",
       "      <td>0.003990</td>\n",
       "      <td>0</td>\n",
       "      <td>109</td>\n",
       "    </tr>\n",
       "    <tr>\n",
       "      <th>4</th>\n",
       "      <td>0xeae7380dd4cef6fbd1144f49e4d1e6964258a4f4</td>\n",
       "      <td>238</td>\n",
       "      <td>288677.541128</td>\n",
       "      <td>1212.930845</td>\n",
       "      <td>0.003463</td>\n",
       "      <td>0</td>\n",
       "      <td>1</td>\n",
       "    </tr>\n",
       "  </tbody>\n",
       "</table>\n",
       "</div>"
      ],
      "text/plain": [
       "                                 from_address  tx_count  total_eth_sent  \\\n",
       "0  0x28c6c06298d514db089934071355e5743bf21d60     12436   812185.410367   \n",
       "1  0xb5d85cbf7cb3ee0d56b3bb207d5fc4b82f43f511      1738   491387.840264   \n",
       "2  0xcd531ae9efcce479654c4926dec5f6209531ca7b       182   341981.188096   \n",
       "3  0xceb69f6342ece283b2f5c9088ff249b5d0ae66ea       169   336212.856277   \n",
       "4  0xeae7380dd4cef6fbd1144f49e4d1e6964258a4f4       238   288677.541128   \n",
       "\n",
       "   avg_eth_per_tx  total_gas_paid_eth  contracts_deployed  unique_recipients  \n",
       "0       65.309216            0.203612                   0              10540  \n",
       "1      282.731784            0.053059                   0               1650  \n",
       "2     1879.017517            0.003597                   0                122  \n",
       "3     1989.425185            0.003990                   0                109  \n",
       "4     1212.930845            0.003463                   0                  1  "
      ]
     },
     "metadata": {},
     "output_type": "display_data"
    },
    {
     "name": "stderr",
     "output_type": "stream",
     "text": [
      "[2025-10-10 20:23:47,879] p21995 {3057630092.py:42} INFO - Data fetched in 10.23s\n"
     ]
    }
   ],
   "source": [
    "query = '''\n",
    "--- Top 20 Addresses by Transaction Volume (Last 7 Days)\n",
    "SELECT \n",
    "    from_address,\n",
    "    COUNT(*) AS tx_count,\n",
    "    SUM(CAST(value AS DOUBLE)) / 1e18 AS total_eth_sent,\n",
    "    AVG(CAST(value AS DOUBLE)) / 1e18 AS avg_eth_per_tx,\n",
    "    SUM(CAST(receipt_gas_used AS DOUBLE) * CAST(gas_price AS DOUBLE)) / 1e18 AS total_gas_paid_eth,\n",
    "    COUNT(CASE WHEN to_address IS NULL THEN 1 END) AS contracts_deployed,\n",
    "    COUNT(DISTINCT to_address) AS unique_recipients\n",
    "FROM eth.transactions\n",
    "WHERE date >= DATE_FORMAT(CURRENT_DATE - INTERVAL '7' DAY, '%Y-%m-%d')\n",
    "  AND value > 0\n",
    "GROUP BY from_address\n",
    "HAVING SUM(CAST(value AS DOUBLE)) / 1e18 > 100  -- Moved more than 100 ETH\n",
    "ORDER BY total_eth_sent DESC\n",
    "LIMIT 20;\n",
    "\n",
    "'''\n",
    "start_time = time.time()\n",
    "response = athena_client.start_query_execution(\n",
    "    QueryString=query,\n",
    "    QueryExecutionContext={\"Database\": DATABASE_NAME},\n",
    "    ResultConfiguration={\n",
    "        \"OutputLocation\": S3_OUTPUT,\n",
    "        \"EncryptionConfiguration\": {\"EncryptionOption\": \"SSE_S3\"},\n",
    "    },\n",
    ")           \n",
    "# ---------------------------------------\n",
    "# Step 1: Preview results (no download)\n",
    "# ---------------------------------------\n",
    "download_and_load_query_results(athena_client, response, download=False)            \n",
    "\n",
    "# ---------------------------------------\n",
    "# Step 2: Ask whether to download\n",
    "# ---------------------------------------\n",
    "confirm = input(\"Download results? (y/n): \").lower()\n",
    "if confirm == \"y\":\n",
    "    top_whale_wallets_last7days = download_and_load_query_results(athena_client, response,  filename=\"top_whale_wallets_last7days\", download=True)\n",
    "    display(top_whale_wallets_last7days.head())\n",
    "\n",
    "logger.info(f\"Data fetched in {time.time() - start_time:.2f}s\")\n"
   ]
  },
  {
   "cell_type": "markdown",
   "id": "3da3de1b",
   "metadata": {},
   "source": [
    "## 5. Smart Contract Deployment Trends\n",
    "\n",
    "### What's the rate of smart contract creation for all transactions, and deployed?"
   ]
  },
  {
   "cell_type": "code",
   "execution_count": 40,
   "id": "982c254b",
   "metadata": {},
   "outputs": [
    {
     "name": "stderr",
     "output_type": "stream",
     "text": [
      "[2025-10-10 20:25:50,117] p21995 {3992468325.py:34} INFO - ⏳ Waiting for query to finish...\n",
      "[2025-10-10 20:25:55,170] p21995 {3992468325.py:52} INFO - ✅ Query succeeded. Data scanned: 634.77 MB\n",
      "[2025-10-10 20:25:55,170] p21995 {3992468325.py:53} INFO - Output location: s3://athena-erika/data/results/d0e88d82-1a10-4941-9acc-eee3dc85f679.csv\n",
      "[2025-10-10 20:25:58,311] p21995 {3992468325.py:34} INFO - ⏳ Waiting for query to finish...\n",
      "[2025-10-10 20:25:58,580] p21995 {3992468325.py:64} INFO - 📁 Saved query result locally as contract_deployment_trends_last30days.csv\n",
      "[2025-10-10 20:25:58,687] p21995 {3992468325.py:68} INFO - Uploaded to s3://athena-erika/data/results/contract_deployment_trends_last30days.csv\n",
      "[2025-10-10 20:25:58,688] p21995 {3992468325.py:70} INFO - ✅ Query completed. Rows: 20\n"
     ]
    },
    {
     "data": {
      "application/vnd.microsoft.datawrangler.viewer.v0+json": {
       "columns": [
        {
         "name": "index",
         "rawType": "int64",
         "type": "integer"
        },
        {
         "name": "from_address",
         "rawType": "object",
         "type": "string"
        },
        {
         "name": "tx_count",
         "rawType": "int64",
         "type": "integer"
        },
        {
         "name": "total_eth_sent",
         "rawType": "float64",
         "type": "float"
        },
        {
         "name": "avg_eth_per_tx",
         "rawType": "float64",
         "type": "float"
        },
        {
         "name": "total_gas_paid_eth",
         "rawType": "float64",
         "type": "float"
        },
        {
         "name": "contracts_deployed",
         "rawType": "int64",
         "type": "integer"
        },
        {
         "name": "unique_recipients",
         "rawType": "int64",
         "type": "integer"
        }
       ],
       "ref": "61d609c4-d73f-406a-b5fd-7b3c261391e4",
       "rows": [
        [
         "0",
         "0x28c6c06298d514db089934071355e5743bf21d60",
         "12436",
         "812185.41036711",
         "65.30921601536748",
         "0.2036119167666154",
         "0",
         "10540"
        ],
        [
         "1",
         "0xb5d85cbf7cb3ee0d56b3bb207d5fc4b82f43f511",
         "1738",
         "491387.8402640571",
         "282.7317838113102",
         "0.0530588595184408",
         "0",
         "1650"
        ],
        [
         "2",
         "0xcd531ae9efcce479654c4926dec5f6209531ca7b",
         "182",
         "341981.18809644086",
         "1879.0175170134116",
         "0.0035966601395161",
         "0",
         "122"
        ],
        [
         "3",
         "0xceb69f6342ece283b2f5c9088ff249b5d0ae66ea",
         "169",
         "336212.8562774949",
         "1989.4251850739347",
         "0.0039896053055354",
         "0",
         "109"
        ],
        [
         "4",
         "0xeae7380dd4cef6fbd1144f49e4d1e6964258a4f4",
         "238",
         "288677.54112756025",
         "1212.9308450737826",
         "0.003463499121516",
         "0",
         "1"
        ]
       ],
       "shape": {
        "columns": 7,
        "rows": 5
       }
      },
      "text/html": [
       "<div>\n",
       "<style scoped>\n",
       "    .dataframe tbody tr th:only-of-type {\n",
       "        vertical-align: middle;\n",
       "    }\n",
       "\n",
       "    .dataframe tbody tr th {\n",
       "        vertical-align: top;\n",
       "    }\n",
       "\n",
       "    .dataframe thead th {\n",
       "        text-align: right;\n",
       "    }\n",
       "</style>\n",
       "<table border=\"1\" class=\"dataframe\">\n",
       "  <thead>\n",
       "    <tr style=\"text-align: right;\">\n",
       "      <th></th>\n",
       "      <th>from_address</th>\n",
       "      <th>tx_count</th>\n",
       "      <th>total_eth_sent</th>\n",
       "      <th>avg_eth_per_tx</th>\n",
       "      <th>total_gas_paid_eth</th>\n",
       "      <th>contracts_deployed</th>\n",
       "      <th>unique_recipients</th>\n",
       "    </tr>\n",
       "  </thead>\n",
       "  <tbody>\n",
       "    <tr>\n",
       "      <th>0</th>\n",
       "      <td>0x28c6c06298d514db089934071355e5743bf21d60</td>\n",
       "      <td>12436</td>\n",
       "      <td>812185.410367</td>\n",
       "      <td>65.309216</td>\n",
       "      <td>0.203612</td>\n",
       "      <td>0</td>\n",
       "      <td>10540</td>\n",
       "    </tr>\n",
       "    <tr>\n",
       "      <th>1</th>\n",
       "      <td>0xb5d85cbf7cb3ee0d56b3bb207d5fc4b82f43f511</td>\n",
       "      <td>1738</td>\n",
       "      <td>491387.840264</td>\n",
       "      <td>282.731784</td>\n",
       "      <td>0.053059</td>\n",
       "      <td>0</td>\n",
       "      <td>1650</td>\n",
       "    </tr>\n",
       "    <tr>\n",
       "      <th>2</th>\n",
       "      <td>0xcd531ae9efcce479654c4926dec5f6209531ca7b</td>\n",
       "      <td>182</td>\n",
       "      <td>341981.188096</td>\n",
       "      <td>1879.017517</td>\n",
       "      <td>0.003597</td>\n",
       "      <td>0</td>\n",
       "      <td>122</td>\n",
       "    </tr>\n",
       "    <tr>\n",
       "      <th>3</th>\n",
       "      <td>0xceb69f6342ece283b2f5c9088ff249b5d0ae66ea</td>\n",
       "      <td>169</td>\n",
       "      <td>336212.856277</td>\n",
       "      <td>1989.425185</td>\n",
       "      <td>0.003990</td>\n",
       "      <td>0</td>\n",
       "      <td>109</td>\n",
       "    </tr>\n",
       "    <tr>\n",
       "      <th>4</th>\n",
       "      <td>0xeae7380dd4cef6fbd1144f49e4d1e6964258a4f4</td>\n",
       "      <td>238</td>\n",
       "      <td>288677.541128</td>\n",
       "      <td>1212.930845</td>\n",
       "      <td>0.003463</td>\n",
       "      <td>0</td>\n",
       "      <td>1</td>\n",
       "    </tr>\n",
       "  </tbody>\n",
       "</table>\n",
       "</div>"
      ],
      "text/plain": [
       "                                 from_address  tx_count  total_eth_sent  \\\n",
       "0  0x28c6c06298d514db089934071355e5743bf21d60     12436   812185.410367   \n",
       "1  0xb5d85cbf7cb3ee0d56b3bb207d5fc4b82f43f511      1738   491387.840264   \n",
       "2  0xcd531ae9efcce479654c4926dec5f6209531ca7b       182   341981.188096   \n",
       "3  0xceb69f6342ece283b2f5c9088ff249b5d0ae66ea       169   336212.856277   \n",
       "4  0xeae7380dd4cef6fbd1144f49e4d1e6964258a4f4       238   288677.541128   \n",
       "\n",
       "   avg_eth_per_tx  total_gas_paid_eth  contracts_deployed  unique_recipients  \n",
       "0       65.309216            0.203612                   0              10540  \n",
       "1      282.731784            0.053059                   0               1650  \n",
       "2     1879.017517            0.003597                   0                122  \n",
       "3     1989.425185            0.003990                   0                109  \n",
       "4     1212.930845            0.003463                   0                  1  "
      ]
     },
     "metadata": {},
     "output_type": "display_data"
    },
    {
     "name": "stderr",
     "output_type": "stream",
     "text": [
      "[2025-10-10 20:25:58,698] p21995 {564524190.py:38} INFO - Data fetched in 8.91s\n"
     ]
    }
   ],
   "source": [
    "Query = '''\n",
    "-- Smart Contract Deployment Trends (Last 30 Days)\n",
    "SELECT \n",
    "    date,\n",
    "    COUNT(*) as contracts_deployed,\n",
    "    COUNT(DISTINCT from_address) as unique_deployers,\n",
    "    AVG(CAST(receipt_gas_used AS DOUBLE)) as avg_deployment_gas,\n",
    "    SUM(CAST(receipt_gas_used AS DOUBLE) * CAST(gas_price AS DOUBLE)) / 1e18 as total_deployment_cost_eth\n",
    "FROM eth.transactions\n",
    "WHERE date >= DATE_FORMAT(CURRENT_DATE - INTERVAL '30' DAY, '%Y-%m-%d')\n",
    "    AND receipt_status = 1\n",
    "GROUP BY date\n",
    "ORDER BY date DESC;\n",
    "'''\n",
    "start_time = time.time()\n",
    "response = athena_client.start_query_execution(\n",
    "    QueryString=query,\n",
    "    QueryExecutionContext={\"Database\": DATABASE_NAME},\n",
    "    ResultConfiguration={\n",
    "        \"OutputLocation\": S3_OUTPUT,\n",
    "        \"EncryptionConfiguration\": {\"EncryptionOption\": \"SSE_S3\"},\n",
    "    },\n",
    ")\n",
    "\n",
    "# ---------------------------------------\n",
    "# Step 1: Preview results (no download)\n",
    "# ---------------------------------------\n",
    "download_and_load_query_results(athena_client, response, download=False)\n",
    "\n",
    "# ---------------------------------------\n",
    "# Step 2: Ask whether to download\n",
    "# ---------------------------------------\n",
    "confirm = input(\"Download results? (y/n): \").lower()\n",
    "if confirm == \"y\":\n",
    "    contract_deployment_trends_last30days = download_and_load_query_results(athena_client, response,  filename=\"contract_deployment_trends_last30days\", download=True)\n",
    "    display(contract_deployment_trends_last30days.head())\n",
    "\n",
    "logger.info(f\"Data fetched in {time.time() - start_time:.2f}s\")"
   ]
  },
  {
   "cell_type": "markdown",
   "id": "4119a228",
   "metadata": {},
   "source": [
    "### What are the top contract deployers?"
   ]
  },
  {
   "cell_type": "code",
   "execution_count": 41,
   "id": "ec94cc36",
   "metadata": {},
   "outputs": [
    {
     "name": "stderr",
     "output_type": "stream",
     "text": [
      "[2025-10-10 20:28:10,864] p21995 {3992468325.py:34} INFO - ⏳ Waiting for query to finish...\n",
      "[2025-10-10 20:28:15,343] p21995 {3992468325.py:52} INFO - ✅ Query succeeded. Data scanned: 1955.54 MB\n",
      "[2025-10-10 20:28:15,345] p21995 {3992468325.py:53} INFO - Output location: s3://athena-erika/data/results/bbfcb49a-0c34-4f85-bee2-1c0ddfbc2cae.csv\n",
      "[2025-10-10 20:28:17,973] p21995 {3992468325.py:34} INFO - ⏳ Waiting for query to finish...\n",
      "[2025-10-10 20:28:18,230] p21995 {3992468325.py:64} INFO - 📁 Saved query result locally as top_contract_deployers_last30days.csv\n",
      "[2025-10-10 20:28:18,324] p21995 {3992468325.py:68} INFO - Uploaded to s3://athena-erika/data/results/top_contract_deployers_last30days.csv\n",
      "[2025-10-10 20:28:18,325] p21995 {3992468325.py:70} INFO - ✅ Query completed. Rows: 10\n"
     ]
    },
    {
     "data": {
      "application/vnd.microsoft.datawrangler.viewer.v0+json": {
       "columns": [
        {
         "name": "index",
         "rawType": "int64",
         "type": "integer"
        },
        {
         "name": "deployer",
         "rawType": "object",
         "type": "string"
        },
        {
         "name": "contracts_deployed",
         "rawType": "int64",
         "type": "integer"
        },
        {
         "name": "avg_gas_used",
         "rawType": "float64",
         "type": "float"
        },
        {
         "name": "total_spent_eth",
         "rawType": "float64",
         "type": "float"
        }
       ],
       "ref": "213f101e-05ed-49c7-98ed-4cb3a70a457b",
       "rows": [
        [
         "0",
         "0xdadb0d80178819f2319190d340ce9a924f783711",
         "488736",
         "22843.223676995352",
         "5.790166421947304"
        ],
        [
         "1",
         "0x4838b106fce9647bdf1e7877bf73ce8b0bad5f97",
         "405121",
         "21570.371669205004",
         "4.972261555612359"
        ],
        [
         "2",
         "0xf70da97812cb96acdf810712aa562db8dfa3dbef",
         "405113",
         "99463.60925223332",
         "50.07794450210515"
        ],
        [
         "3",
         "0x28c6c06298d514db089934071355e5743bf21d60",
         "369453",
         "68458.73682985386",
         "33.699671379668935"
        ],
        [
         "4",
         "0x559432e18b281731c054cd703d4b49872be4ed53",
         "324497",
         "53619.62226153092",
         "23.965473888068633"
        ]
       ],
       "shape": {
        "columns": 4,
        "rows": 5
       }
      },
      "text/html": [
       "<div>\n",
       "<style scoped>\n",
       "    .dataframe tbody tr th:only-of-type {\n",
       "        vertical-align: middle;\n",
       "    }\n",
       "\n",
       "    .dataframe tbody tr th {\n",
       "        vertical-align: top;\n",
       "    }\n",
       "\n",
       "    .dataframe thead th {\n",
       "        text-align: right;\n",
       "    }\n",
       "</style>\n",
       "<table border=\"1\" class=\"dataframe\">\n",
       "  <thead>\n",
       "    <tr style=\"text-align: right;\">\n",
       "      <th></th>\n",
       "      <th>deployer</th>\n",
       "      <th>contracts_deployed</th>\n",
       "      <th>avg_gas_used</th>\n",
       "      <th>total_spent_eth</th>\n",
       "    </tr>\n",
       "  </thead>\n",
       "  <tbody>\n",
       "    <tr>\n",
       "      <th>0</th>\n",
       "      <td>0xdadb0d80178819f2319190d340ce9a924f783711</td>\n",
       "      <td>488736</td>\n",
       "      <td>22843.223677</td>\n",
       "      <td>5.790166</td>\n",
       "    </tr>\n",
       "    <tr>\n",
       "      <th>1</th>\n",
       "      <td>0x4838b106fce9647bdf1e7877bf73ce8b0bad5f97</td>\n",
       "      <td>405121</td>\n",
       "      <td>21570.371669</td>\n",
       "      <td>4.972262</td>\n",
       "    </tr>\n",
       "    <tr>\n",
       "      <th>2</th>\n",
       "      <td>0xf70da97812cb96acdf810712aa562db8dfa3dbef</td>\n",
       "      <td>405113</td>\n",
       "      <td>99463.609252</td>\n",
       "      <td>50.077945</td>\n",
       "    </tr>\n",
       "    <tr>\n",
       "      <th>3</th>\n",
       "      <td>0x28c6c06298d514db089934071355e5743bf21d60</td>\n",
       "      <td>369453</td>\n",
       "      <td>68458.736830</td>\n",
       "      <td>33.699671</td>\n",
       "    </tr>\n",
       "    <tr>\n",
       "      <th>4</th>\n",
       "      <td>0x559432e18b281731c054cd703d4b49872be4ed53</td>\n",
       "      <td>324497</td>\n",
       "      <td>53619.622262</td>\n",
       "      <td>23.965474</td>\n",
       "    </tr>\n",
       "  </tbody>\n",
       "</table>\n",
       "</div>"
      ],
      "text/plain": [
       "                                     deployer  contracts_deployed  \\\n",
       "0  0xdadb0d80178819f2319190d340ce9a924f783711              488736   \n",
       "1  0x4838b106fce9647bdf1e7877bf73ce8b0bad5f97              405121   \n",
       "2  0xf70da97812cb96acdf810712aa562db8dfa3dbef              405113   \n",
       "3  0x28c6c06298d514db089934071355e5743bf21d60              369453   \n",
       "4  0x559432e18b281731c054cd703d4b49872be4ed53              324497   \n",
       "\n",
       "   avg_gas_used  total_spent_eth  \n",
       "0  22843.223677         5.790166  \n",
       "1  21570.371669         4.972262  \n",
       "2  99463.609252        50.077945  \n",
       "3  68458.736830        33.699671  \n",
       "4  53619.622262        23.965474  "
      ]
     },
     "metadata": {},
     "output_type": "display_data"
    },
    {
     "name": "stderr",
     "output_type": "stream",
     "text": [
      "[2025-10-10 20:28:18,331] p21995 {2372339901.py:37} INFO - Data fetched in 7.69s\n"
     ]
    }
   ],
   "source": [
    "query = '''\n",
    "SELECT \n",
    "    from_address as deployer,\n",
    "    COUNT(*) as contracts_deployed,\n",
    "    AVG(CAST(receipt_gas_used AS DOUBLE)) as avg_gas_used,\n",
    "    SUM(CAST(receipt_gas_used AS DOUBLE) * CAST(gas_price AS DOUBLE)) / 1e18 as total_spent_eth\n",
    "FROM eth.transactions\n",
    "WHERE date >= DATE_FORMAT(CURRENT_DATE - INTERVAL '30' DAY, '%Y-%m-%d')\n",
    "    AND receipt_status = 1\n",
    "GROUP BY from_address\n",
    "ORDER BY contracts_deployed DESC\n",
    "LIMIT 10;\n",
    "\n",
    "'''\n",
    "start_time = time.time()\n",
    "response = athena_client.start_query_execution(\n",
    "    QueryString=query,\n",
    "    QueryExecutionContext={\"Database\": DATABASE_NAME},\n",
    "    ResultConfiguration={\n",
    "        \"OutputLocation\": S3_OUTPUT,\n",
    "        \"EncryptionConfiguration\": {\"EncryptionOption\": \"SSE_S3\"},\n",
    "    },\n",
    ")\n",
    "# ---------------------------------------\n",
    "# Step 1: Preview results (no download)\n",
    "# ---------------------------------------\n",
    "download_and_load_query_results(athena_client, response, download=False)\n",
    "\n",
    "# ---------------------------------------\n",
    "# Step 2: Ask whether to download\n",
    "# ---------------------------------------\n",
    "confirm = input(\"Download results? (y/n): \").lower()\n",
    "if confirm == \"y\":\n",
    "    top_contract_deployers_last30days = download_and_load_query_results(athena_client, response,  filename=\"top_contract_deployers_last30days\", download=True)\n",
    "    display(top_contract_deployers_last30days.head())\n",
    "\n",
    "logger.info(f\"Data fetched in {time.time() - start_time:.2f}s\")"
   ]
  },
  {
   "cell_type": "markdown",
   "id": "730f8a9d",
   "metadata": {},
   "source": [
    "## 6. Token Transfer Activity (ERC-20 Analysis)\n",
    "\n",
    "### Which tokens are most actively traded?"
   ]
  },
  {
   "cell_type": "code",
   "execution_count": 43,
   "id": "ced03957",
   "metadata": {},
   "outputs": [
    {
     "name": "stderr",
     "output_type": "stream",
     "text": [
      "[2025-10-10 20:33:42,649] p21995 {3992468325.py:34} INFO - ⏳ Waiting for query to finish...\n",
      "[2025-10-10 20:33:46,597] p21995 {3992468325.py:52} INFO - ✅ Query succeeded. Data scanned: 1016.53 MB\n",
      "[2025-10-10 20:33:46,598] p21995 {3992468325.py:53} INFO - Output location: s3://athena-erika/data/results/9904711b-d99b-4800-afbc-53ed70ee1f3f.csv\n",
      "[2025-10-10 20:33:48,626] p21995 {3992468325.py:34} INFO - ⏳ Waiting for query to finish...\n",
      "[2025-10-10 20:33:48,888] p21995 {3992468325.py:64} INFO - 📁 Saved query result locally as top_token_transfers_last7days.csv\n",
      "[2025-10-10 20:33:48,999] p21995 {3992468325.py:68} INFO - Uploaded to s3://athena-erika/data/results/top_token_transfers_last7days.csv\n",
      "[2025-10-10 20:33:49,000] p21995 {3992468325.py:70} INFO - ✅ Query completed. Rows: 20\n"
     ]
    },
    {
     "data": {
      "application/vnd.microsoft.datawrangler.viewer.v0+json": {
       "columns": [
        {
         "name": "index",
         "rawType": "int64",
         "type": "integer"
        },
        {
         "name": "token_address",
         "rawType": "object",
         "type": "string"
        },
        {
         "name": "transfer_count",
         "rawType": "int64",
         "type": "integer"
        },
        {
         "name": "unique_senders",
         "rawType": "int64",
         "type": "integer"
        },
        {
         "name": "unique_receivers",
         "rawType": "int64",
         "type": "integer"
        },
        {
         "name": "total_volume",
         "rawType": "float64",
         "type": "float"
        },
        {
         "name": "avg_transfer_size",
         "rawType": "float64",
         "type": "float"
        }
       ],
       "ref": "62d2bea2-762c-4d10-8434-effbf6ae7c93",
       "rows": [
        [
         "0",
         "0xdac17f958d2ee523a2206206994597c13d831ec7",
         "2558147",
         "504434",
         "647437",
         "0.1187738068817687",
         "4.6429625381875536e-08"
        ],
        [
         "1",
         "0xa0b86991c6218b36c1d19d4a2e9eb0ce3606eb48",
         "2314608",
         "364356",
         "451017",
         "0.2406889626597461",
         "1.039869224766121e-07"
        ],
        [
         "2",
         "0xc02aaa39b223fe8d0a0e5c4f27ead9083c756cc2",
         "1663751",
         "38055",
         "35330",
         "102876431.79166232",
         "61.83403152975555"
        ],
        [
         "3",
         "0x95ad61b0a150d79219dcf64e1e6cc01f0b64c4ce",
         "647372",
         "15924",
         "619594",
         "24375436356725.355",
         "37652904.90896325"
        ],
        [
         "4",
         "0x06450dee7fd2fb8e39061434babcfc05599a6fb8",
         "290301",
         "906",
         "143448",
         "88685670604233.6",
         "305495573.9189104"
        ]
       ],
       "shape": {
        "columns": 6,
        "rows": 5
       }
      },
      "text/html": [
       "<div>\n",
       "<style scoped>\n",
       "    .dataframe tbody tr th:only-of-type {\n",
       "        vertical-align: middle;\n",
       "    }\n",
       "\n",
       "    .dataframe tbody tr th {\n",
       "        vertical-align: top;\n",
       "    }\n",
       "\n",
       "    .dataframe thead th {\n",
       "        text-align: right;\n",
       "    }\n",
       "</style>\n",
       "<table border=\"1\" class=\"dataframe\">\n",
       "  <thead>\n",
       "    <tr style=\"text-align: right;\">\n",
       "      <th></th>\n",
       "      <th>token_address</th>\n",
       "      <th>transfer_count</th>\n",
       "      <th>unique_senders</th>\n",
       "      <th>unique_receivers</th>\n",
       "      <th>total_volume</th>\n",
       "      <th>avg_transfer_size</th>\n",
       "    </tr>\n",
       "  </thead>\n",
       "  <tbody>\n",
       "    <tr>\n",
       "      <th>0</th>\n",
       "      <td>0xdac17f958d2ee523a2206206994597c13d831ec7</td>\n",
       "      <td>2558147</td>\n",
       "      <td>504434</td>\n",
       "      <td>647437</td>\n",
       "      <td>1.187738e-01</td>\n",
       "      <td>4.642963e-08</td>\n",
       "    </tr>\n",
       "    <tr>\n",
       "      <th>1</th>\n",
       "      <td>0xa0b86991c6218b36c1d19d4a2e9eb0ce3606eb48</td>\n",
       "      <td>2314608</td>\n",
       "      <td>364356</td>\n",
       "      <td>451017</td>\n",
       "      <td>2.406890e-01</td>\n",
       "      <td>1.039869e-07</td>\n",
       "    </tr>\n",
       "    <tr>\n",
       "      <th>2</th>\n",
       "      <td>0xc02aaa39b223fe8d0a0e5c4f27ead9083c756cc2</td>\n",
       "      <td>1663751</td>\n",
       "      <td>38055</td>\n",
       "      <td>35330</td>\n",
       "      <td>1.028764e+08</td>\n",
       "      <td>6.183403e+01</td>\n",
       "    </tr>\n",
       "    <tr>\n",
       "      <th>3</th>\n",
       "      <td>0x95ad61b0a150d79219dcf64e1e6cc01f0b64c4ce</td>\n",
       "      <td>647372</td>\n",
       "      <td>15924</td>\n",
       "      <td>619594</td>\n",
       "      <td>2.437544e+13</td>\n",
       "      <td>3.765290e+07</td>\n",
       "    </tr>\n",
       "    <tr>\n",
       "      <th>4</th>\n",
       "      <td>0x06450dee7fd2fb8e39061434babcfc05599a6fb8</td>\n",
       "      <td>290301</td>\n",
       "      <td>906</td>\n",
       "      <td>143448</td>\n",
       "      <td>8.868567e+13</td>\n",
       "      <td>3.054956e+08</td>\n",
       "    </tr>\n",
       "  </tbody>\n",
       "</table>\n",
       "</div>"
      ],
      "text/plain": [
       "                                token_address  transfer_count  unique_senders  \\\n",
       "0  0xdac17f958d2ee523a2206206994597c13d831ec7         2558147          504434   \n",
       "1  0xa0b86991c6218b36c1d19d4a2e9eb0ce3606eb48         2314608          364356   \n",
       "2  0xc02aaa39b223fe8d0a0e5c4f27ead9083c756cc2         1663751           38055   \n",
       "3  0x95ad61b0a150d79219dcf64e1e6cc01f0b64c4ce          647372           15924   \n",
       "4  0x06450dee7fd2fb8e39061434babcfc05599a6fb8          290301             906   \n",
       "\n",
       "   unique_receivers  total_volume  avg_transfer_size  \n",
       "0            647437  1.187738e-01       4.642963e-08  \n",
       "1            451017  2.406890e-01       1.039869e-07  \n",
       "2             35330  1.028764e+08       6.183403e+01  \n",
       "3            619594  2.437544e+13       3.765290e+07  \n",
       "4            143448  8.868567e+13       3.054956e+08  "
      ]
     },
     "metadata": {},
     "output_type": "display_data"
    },
    {
     "name": "stderr",
     "output_type": "stream",
     "text": [
      "[2025-10-10 20:33:49,010] p21995 {778610392.py:36} INFO - Data fetched in 6.76s\n"
     ]
    }
   ],
   "source": [
    "query = '''\n",
    "-- Token Transfer Activity (Last 7 Days)\n",
    "SELECT \n",
    "    token_address,\n",
    "    COUNT(*) as transfer_count,\n",
    "    COUNT(DISTINCT from_address) as unique_senders,\n",
    "    COUNT(DISTINCT to_address) as unique_receivers,\n",
    "    SUM(CAST(value AS DOUBLE)) / 1e18  as total_volume,\n",
    "    AVG(CAST(value AS DOUBLE)) / 1e18  as avg_transfer_size\n",
    "FROM eth.token_transfers\n",
    "WHERE date >= DATE_FORMAT(CURRENT_DATE - INTERVAL '7' DAY, '%Y-%m-%d')\n",
    "GROUP BY token_address\n",
    "ORDER BY transfer_count DESC\n",
    "LIMIT 20;\n",
    "'''\n",
    "start_time = time.time()\n",
    "response = athena_client.start_query_execution(\n",
    "    QueryString=query,\n",
    "    QueryExecutionContext={\"Database\": DATABASE_NAME},\n",
    "    ResultConfiguration={\n",
    "        \"OutputLocation\": S3_OUTPUT,\n",
    "        \"EncryptionConfiguration\": {\"EncryptionOption\": \"SSE_S3\"},\n",
    "    },\n",
    ")\n",
    "# ---------------------------------------\n",
    "# Step 1: Preview results (no download)\n",
    "# ---------------------------------------\n",
    "download_and_load_query_results(athena_client, response, download=False)\n",
    "# ---------------------------------------\n",
    "# Step 2: Ask whether to download\n",
    "# ---------------------------------------\n",
    "confirm = input(\"Download results? (y/n): \").lower()\n",
    "if confirm == \"y\":\n",
    "    top_token_transfers_last7days = download_and_load_query_results(athena_client, response,  filename=\"top_token_transfers_last7days\", download=True)  \n",
    "    display(top_token_transfers_last7days.head())\n",
    "logger.info(f\"Data fetched in {time.time() - start_time:.2f}s\")"
   ]
  },
  {
   "cell_type": "markdown",
   "id": "58a9ea32",
   "metadata": {},
   "source": [
    "## 7. Transaction Success Rate & Failed Transactions\n",
    "\n",
    "### What's the failure rate and why are transactions failing?"
   ]
  },
  {
   "cell_type": "code",
   "execution_count": 44,
   "id": "0de3b8a0",
   "metadata": {},
   "outputs": [
    {
     "name": "stderr",
     "output_type": "stream",
     "text": [
      "[2025-10-10 20:35:47,045] p21995 {3992468325.py:34} INFO - ⏳ Waiting for query to finish...\n",
      "[2025-10-10 20:35:50,496] p21995 {3992468325.py:52} INFO - ✅ Query succeeded. Data scanned: 376.74 MB\n",
      "[2025-10-10 20:35:50,497] p21995 {3992468325.py:53} INFO - Output location: s3://athena-erika/data/results/35d217ec-8a87-4f7d-bfe2-1f4b56d2415b.csv\n",
      "[2025-10-10 20:35:57,888] p21995 {3992468325.py:34} INFO - ⏳ Waiting for query to finish...\n",
      "[2025-10-10 20:35:58,147] p21995 {3992468325.py:64} INFO - 📁 Saved query result locally as tx_success_analysis_last30days.csv\n",
      "[2025-10-10 20:35:58,263] p21995 {3992468325.py:68} INFO - Uploaded to s3://athena-erika/data/results/tx_success_analysis_last30days.csv\n",
      "[2025-10-10 20:35:58,264] p21995 {3992468325.py:70} INFO - ✅ Query completed. Rows: 29\n"
     ]
    },
    {
     "data": {
      "application/vnd.microsoft.datawrangler.viewer.v0+json": {
       "columns": [
        {
         "name": "index",
         "rawType": "int64",
         "type": "integer"
        },
        {
         "name": "date",
         "rawType": "object",
         "type": "string"
        },
        {
         "name": "total_tx",
         "rawType": "int64",
         "type": "integer"
        },
        {
         "name": "successful_tx",
         "rawType": "int64",
         "type": "integer"
        },
        {
         "name": "failed_tx",
         "rawType": "int64",
         "type": "integer"
        },
        {
         "name": "failure_rate_pct",
         "rawType": "float64",
         "type": "float"
        },
        {
         "name": "gas_wasted_eth",
         "rawType": "float64",
         "type": "float"
        }
       ],
       "ref": "d3f8375d-4f8c-4372-b6dc-5fa1bf378049",
       "rows": [
        [
         "0",
         "2025-10-09",
         "1594069",
         "1575935",
         "18134",
         "1.1375919110151445",
         "3.086095018922777"
        ],
        [
         "1",
         "2025-10-08",
         "1616085",
         "1599094",
         "16991",
         "1.0513679664126578",
         "2.3749358658527617"
        ],
        [
         "2",
         "2025-10-07",
         "1595109",
         "1574221",
         "20888",
         "1.3095029869432122",
         "4.7354544482785075"
        ],
        [
         "3",
         "2025-10-06",
         "1576776",
         "1551318",
         "25458",
         "1.614560343384222",
         "7.222959748651001"
        ],
        [
         "4",
         "2025-10-05",
         "1387207",
         "1369725",
         "17482",
         "1.2602300882276405",
         "3.0343942364458085"
        ]
       ],
       "shape": {
        "columns": 6,
        "rows": 5
       }
      },
      "text/html": [
       "<div>\n",
       "<style scoped>\n",
       "    .dataframe tbody tr th:only-of-type {\n",
       "        vertical-align: middle;\n",
       "    }\n",
       "\n",
       "    .dataframe tbody tr th {\n",
       "        vertical-align: top;\n",
       "    }\n",
       "\n",
       "    .dataframe thead th {\n",
       "        text-align: right;\n",
       "    }\n",
       "</style>\n",
       "<table border=\"1\" class=\"dataframe\">\n",
       "  <thead>\n",
       "    <tr style=\"text-align: right;\">\n",
       "      <th></th>\n",
       "      <th>date</th>\n",
       "      <th>total_tx</th>\n",
       "      <th>successful_tx</th>\n",
       "      <th>failed_tx</th>\n",
       "      <th>failure_rate_pct</th>\n",
       "      <th>gas_wasted_eth</th>\n",
       "    </tr>\n",
       "  </thead>\n",
       "  <tbody>\n",
       "    <tr>\n",
       "      <th>0</th>\n",
       "      <td>2025-10-09</td>\n",
       "      <td>1594069</td>\n",
       "      <td>1575935</td>\n",
       "      <td>18134</td>\n",
       "      <td>1.137592</td>\n",
       "      <td>3.086095</td>\n",
       "    </tr>\n",
       "    <tr>\n",
       "      <th>1</th>\n",
       "      <td>2025-10-08</td>\n",
       "      <td>1616085</td>\n",
       "      <td>1599094</td>\n",
       "      <td>16991</td>\n",
       "      <td>1.051368</td>\n",
       "      <td>2.374936</td>\n",
       "    </tr>\n",
       "    <tr>\n",
       "      <th>2</th>\n",
       "      <td>2025-10-07</td>\n",
       "      <td>1595109</td>\n",
       "      <td>1574221</td>\n",
       "      <td>20888</td>\n",
       "      <td>1.309503</td>\n",
       "      <td>4.735454</td>\n",
       "    </tr>\n",
       "    <tr>\n",
       "      <th>3</th>\n",
       "      <td>2025-10-06</td>\n",
       "      <td>1576776</td>\n",
       "      <td>1551318</td>\n",
       "      <td>25458</td>\n",
       "      <td>1.614560</td>\n",
       "      <td>7.222960</td>\n",
       "    </tr>\n",
       "    <tr>\n",
       "      <th>4</th>\n",
       "      <td>2025-10-05</td>\n",
       "      <td>1387207</td>\n",
       "      <td>1369725</td>\n",
       "      <td>17482</td>\n",
       "      <td>1.260230</td>\n",
       "      <td>3.034394</td>\n",
       "    </tr>\n",
       "  </tbody>\n",
       "</table>\n",
       "</div>"
      ],
      "text/plain": [
       "         date  total_tx  successful_tx  failed_tx  failure_rate_pct  \\\n",
       "0  2025-10-09   1594069        1575935      18134          1.137592   \n",
       "1  2025-10-08   1616085        1599094      16991          1.051368   \n",
       "2  2025-10-07   1595109        1574221      20888          1.309503   \n",
       "3  2025-10-06   1576776        1551318      25458          1.614560   \n",
       "4  2025-10-05   1387207        1369725      17482          1.260230   \n",
       "\n",
       "   gas_wasted_eth  \n",
       "0        3.086095  \n",
       "1        2.374936  \n",
       "2        4.735454  \n",
       "3        7.222960  \n",
       "4        3.034394  "
      ]
     },
     "metadata": {},
     "output_type": "display_data"
    },
    {
     "name": "stderr",
     "output_type": "stream",
     "text": [
      "[2025-10-10 20:35:58,270] p21995 {748015229.py:40} INFO - Data fetched in 11.49s\n"
     ]
    }
   ],
   "source": [
    "query = '''\n",
    "-- Transaction Success Analysis (Last 30 Days)\n",
    "SELECT \n",
    "    date,\n",
    "    COUNT(*) as total_tx,\n",
    "    SUM(CASE WHEN receipt_status = 1 THEN 1 ELSE 0 END) as successful_tx,\n",
    "    SUM(CASE WHEN receipt_status = 0 THEN 1 ELSE 0 END) as failed_tx,\n",
    "    CAST(SUM(CASE WHEN receipt_status = 0 THEN 1 ELSE 0 END) AS DOUBLE) / COUNT(*) * 100 as failure_rate_pct,\n",
    "    -- Gas wasted on failed transactions\n",
    "    SUM(CASE WHEN receipt_status = 0 \n",
    "        THEN CAST(receipt_gas_used AS DOUBLE) * CAST(gas_price AS DOUBLE) \n",
    "        ELSE 0 END) / 1e18 as gas_wasted_eth\n",
    "FROM eth.transactions\n",
    "WHERE date >= DATE_FORMAT(CURRENT_DATE - INTERVAL '30' DAY, '%Y-%m-%d')\n",
    "GROUP BY date\n",
    "ORDER BY date DESC;\n",
    "'''\n",
    "\n",
    "start_time = time.time()\n",
    "response = athena_client.start_query_execution(\n",
    "    QueryString=query,\n",
    "    QueryExecutionContext={\"Database\": DATABASE_NAME},\n",
    "    ResultConfiguration={\n",
    "        \"OutputLocation\": S3_OUTPUT,\n",
    "        \"EncryptionConfiguration\": {\"EncryptionOption\": \"SSE_S3\"},\n",
    "    },\n",
    ")\n",
    "# ---------------------------------------\n",
    "# Step 1: Preview results (no download)\n",
    "# ---------------------------------------\n",
    "download_and_load_query_results(athena_client, response, download=False)\n",
    "\n",
    "# ---------------------------------------\n",
    "# Step 2: Ask whether to download\n",
    "# ---------------------------------------\n",
    "confirm = input(\"Download results? (y/n): \").lower()\n",
    "if confirm == \"y\":\n",
    "    tx_success_analysis_last30days = download_and_load_query_results(athena_client, response,  filename=\"tx_success_analysis_last30days\", download=True)  \n",
    "    display(tx_success_analysis_last30days.head())\n",
    "logger.info(f\"Data fetched in {time.time() - start_time:.2f}s\")"
   ]
  },
  {
   "cell_type": "markdown",
   "id": "346dbec5",
   "metadata": {},
   "source": [
    "### What are high-value failed transactions in the last 7 days? "
   ]
  },
  {
   "cell_type": "code",
   "execution_count": 45,
   "id": "02fc70c8",
   "metadata": {},
   "outputs": [
    {
     "name": "stderr",
     "output_type": "stream",
     "text": [
      "[2025-10-10 20:38:27,923] p21995 {3992468325.py:34} INFO - ⏳ Waiting for query to finish...\n",
      "[2025-10-10 20:38:30,731] p21995 {3992468325.py:52} INFO - ✅ Query succeeded. Data scanned: 113.93 MB\n",
      "[2025-10-10 20:38:30,731] p21995 {3992468325.py:53} INFO - Output location: s3://athena-erika/data/results/e093985e-22d2-437e-939f-cf67c070d829.csv\n",
      "[2025-10-10 20:38:35,568] p21995 {3992468325.py:34} INFO - ⏳ Waiting for query to finish...\n",
      "[2025-10-10 20:38:35,984] p21995 {3992468325.py:64} INFO - 📁 Saved query result locally as expensive_failed_txs_last7days.csv\n",
      "[2025-10-10 20:38:36,077] p21995 {3992468325.py:68} INFO - Uploaded to s3://athena-erika/data/results/expensive_failed_txs_last7days.csv\n",
      "[2025-10-10 20:38:36,077] p21995 {3992468325.py:70} INFO - ✅ Query completed. Rows: 3\n"
     ]
    },
    {
     "data": {
      "application/vnd.microsoft.datawrangler.viewer.v0+json": {
       "columns": [
        {
         "name": "index",
         "rawType": "int64",
         "type": "integer"
        },
        {
         "name": "hash",
         "rawType": "object",
         "type": "string"
        },
        {
         "name": "from_address",
         "rawType": "object",
         "type": "string"
        },
        {
         "name": "to_address",
         "rawType": "object",
         "type": "string"
        },
        {
         "name": "eth_amount",
         "rawType": "float64",
         "type": "float"
        },
        {
         "name": "gas_wasted_eth",
         "rawType": "float64",
         "type": "float"
        },
        {
         "name": "block_number",
         "rawType": "int64",
         "type": "integer"
        },
        {
         "name": "block_timestamp",
         "rawType": "object",
         "type": "string"
        }
       ],
       "ref": "fee4b6b0-7d52-4c81-91d7-6c2a141a53f4",
       "rows": [
        [
         "0",
         "0xab199e9a227093fff7595045602f80824ebea27250d1670b21e467f3ea989a39",
         "0xcdc89e8546e2f4f425de825ba152d6a0438fb25b",
         "0x38778e6d4d0dbe9becef3ae8b938570209efa48b",
         "1.418718679293256",
         "0.255855523",
         "23513433",
         "2025-10-05 18:43:23.000"
        ],
        [
         "1",
         "0xe21a914d96d862fcccd40c6e40b3555eb6c3ab76d68db75cc11436c1aa96d690",
         "0xcdc89e8546e2f4f425de825ba152d6a0438fb25b",
         "0x38778e6d4d0dbe9becef3ae8b938570209efa48b",
         "1.417910957364616",
         "0.255855523",
         "23513431",
         "2025-10-05 18:42:59.000"
        ],
        [
         "2",
         "0x40fa1815532e4eb47eabf15a41c0a63ac6809e14dba7f80f5f03e3f1ab1e979d",
         "0xcdc89e8546e2f4f425de825ba152d6a0438fb25b",
         "0x38778e6d4d0dbe9becef3ae8b938570209efa48b",
         "1.415831520655816",
         "0.109652367",
         "23513429",
         "2025-10-05 18:42:35.000"
        ]
       ],
       "shape": {
        "columns": 7,
        "rows": 3
       }
      },
      "text/html": [
       "<div>\n",
       "<style scoped>\n",
       "    .dataframe tbody tr th:only-of-type {\n",
       "        vertical-align: middle;\n",
       "    }\n",
       "\n",
       "    .dataframe tbody tr th {\n",
       "        vertical-align: top;\n",
       "    }\n",
       "\n",
       "    .dataframe thead th {\n",
       "        text-align: right;\n",
       "    }\n",
       "</style>\n",
       "<table border=\"1\" class=\"dataframe\">\n",
       "  <thead>\n",
       "    <tr style=\"text-align: right;\">\n",
       "      <th></th>\n",
       "      <th>hash</th>\n",
       "      <th>from_address</th>\n",
       "      <th>to_address</th>\n",
       "      <th>eth_amount</th>\n",
       "      <th>gas_wasted_eth</th>\n",
       "      <th>block_number</th>\n",
       "      <th>block_timestamp</th>\n",
       "    </tr>\n",
       "  </thead>\n",
       "  <tbody>\n",
       "    <tr>\n",
       "      <th>0</th>\n",
       "      <td>0xab199e9a227093fff7595045602f80824ebea27250d1...</td>\n",
       "      <td>0xcdc89e8546e2f4f425de825ba152d6a0438fb25b</td>\n",
       "      <td>0x38778e6d4d0dbe9becef3ae8b938570209efa48b</td>\n",
       "      <td>1.418719</td>\n",
       "      <td>0.255856</td>\n",
       "      <td>23513433</td>\n",
       "      <td>2025-10-05 18:43:23.000</td>\n",
       "    </tr>\n",
       "    <tr>\n",
       "      <th>1</th>\n",
       "      <td>0xe21a914d96d862fcccd40c6e40b3555eb6c3ab76d68d...</td>\n",
       "      <td>0xcdc89e8546e2f4f425de825ba152d6a0438fb25b</td>\n",
       "      <td>0x38778e6d4d0dbe9becef3ae8b938570209efa48b</td>\n",
       "      <td>1.417911</td>\n",
       "      <td>0.255856</td>\n",
       "      <td>23513431</td>\n",
       "      <td>2025-10-05 18:42:59.000</td>\n",
       "    </tr>\n",
       "    <tr>\n",
       "      <th>2</th>\n",
       "      <td>0x40fa1815532e4eb47eabf15a41c0a63ac6809e14dba7...</td>\n",
       "      <td>0xcdc89e8546e2f4f425de825ba152d6a0438fb25b</td>\n",
       "      <td>0x38778e6d4d0dbe9becef3ae8b938570209efa48b</td>\n",
       "      <td>1.415832</td>\n",
       "      <td>0.109652</td>\n",
       "      <td>23513429</td>\n",
       "      <td>2025-10-05 18:42:35.000</td>\n",
       "    </tr>\n",
       "  </tbody>\n",
       "</table>\n",
       "</div>"
      ],
      "text/plain": [
       "                                                hash  \\\n",
       "0  0xab199e9a227093fff7595045602f80824ebea27250d1...   \n",
       "1  0xe21a914d96d862fcccd40c6e40b3555eb6c3ab76d68d...   \n",
       "2  0x40fa1815532e4eb47eabf15a41c0a63ac6809e14dba7...   \n",
       "\n",
       "                                 from_address  \\\n",
       "0  0xcdc89e8546e2f4f425de825ba152d6a0438fb25b   \n",
       "1  0xcdc89e8546e2f4f425de825ba152d6a0438fb25b   \n",
       "2  0xcdc89e8546e2f4f425de825ba152d6a0438fb25b   \n",
       "\n",
       "                                   to_address  eth_amount  gas_wasted_eth  \\\n",
       "0  0x38778e6d4d0dbe9becef3ae8b938570209efa48b    1.418719        0.255856   \n",
       "1  0x38778e6d4d0dbe9becef3ae8b938570209efa48b    1.417911        0.255856   \n",
       "2  0x38778e6d4d0dbe9becef3ae8b938570209efa48b    1.415832        0.109652   \n",
       "\n",
       "   block_number          block_timestamp  \n",
       "0      23513433  2025-10-05 18:43:23.000  \n",
       "1      23513431  2025-10-05 18:42:59.000  \n",
       "2      23513429  2025-10-05 18:42:35.000  "
      ]
     },
     "metadata": {},
     "output_type": "display_data"
    },
    {
     "name": "stderr",
     "output_type": "stream",
     "text": [
      "[2025-10-10 20:38:36,084] p21995 {3166031474.py:40} INFO - Data fetched in 8.45s\n"
     ]
    }
   ],
   "source": [
    "query = '''\n",
    "-- Expensive Failed Transactions (Last 7 Days)\n",
    "SELECT \n",
    "    hash,\n",
    "    from_address,\n",
    "    to_address,\n",
    "    CAST(value AS DOUBLE) / 1e18 as eth_amount,\n",
    "    CAST(receipt_gas_used AS DOUBLE) * CAST(gas_price AS DOUBLE) / 1e18 as gas_wasted_eth,\n",
    "    block_number,\n",
    "    block_timestamp\n",
    "FROM eth.transactions\n",
    "WHERE date >= DATE_FORMAT(CURRENT_DATE - INTERVAL '7' DAY, '%Y-%m-%d')\n",
    "    AND receipt_status = 0\n",
    "    AND CAST(receipt_gas_used AS DOUBLE) * CAST(gas_price AS DOUBLE) / 1e18 > 0.1 -- Lost more than 0.1 ETH in gas\n",
    "ORDER BY gas_wasted_eth DESC\n",
    "LIMIT 20;\n",
    "'''\n",
    "start_time = time.time()\n",
    "response = athena_client.start_query_execution(\n",
    "    QueryString=query,\n",
    "    QueryExecutionContext={\"Database\": DATABASE_NAME},\n",
    "    ResultConfiguration={\n",
    "        \"OutputLocation\": S3_OUTPUT,\n",
    "        \"EncryptionConfiguration\": {\"EncryptionOption\": \"SSE_S3\"},\n",
    "    },\n",
    ")\n",
    "# ---------------------------------------\n",
    "# Step 1: Preview results (no download)\n",
    "# ---------------------------------------\n",
    "\n",
    "download_and_load_query_results(athena_client, response, download=False)\n",
    "\n",
    "# ---------------------------------------\n",
    "# Step 2: Ask whether to download\n",
    "# ---------------------------------------\n",
    "confirm = input(\"Download results? (y/n): \").lower()\n",
    "if confirm == \"y\":\n",
    "    expensive_failed_txs_last7days = download_and_load_query_results(athena_client, response,  filename=\"expensive_failed_txs_last7days\", download=True)  \n",
    "    display(expensive_failed_txs_last7days.head())\n",
    "logger.info(f\"Data fetched in {time.time() - start_time:.2f}s\")"
   ]
  },
  {
   "cell_type": "markdown",
   "id": "ecccf980",
   "metadata": {},
   "source": [
    "## 8. Mining/Validator Analysis\n",
    "\n",
    "### Who are the dominant block producers and what are they earning?\n"
   ]
  },
  {
   "cell_type": "code",
   "execution_count": 46,
   "id": "44389f84",
   "metadata": {},
   "outputs": [
    {
     "name": "stderr",
     "output_type": "stream",
     "text": [
      "[2025-10-10 20:40:37,682] p21995 {3992468325.py:34} INFO - ⏳ Waiting for query to finish...\n",
      "[2025-10-10 20:40:39,385] p21995 {3992468325.py:52} INFO - ✅ Query succeeded. Data scanned: 0.64 MB\n",
      "[2025-10-10 20:40:39,386] p21995 {3992468325.py:53} INFO - Output location: s3://athena-erika/data/results/06d0f261-6cae-439f-bcd1-810fc725798a.csv\n",
      "[2025-10-10 20:40:41,008] p21995 {3992468325.py:34} INFO - ⏳ Waiting for query to finish...\n",
      "[2025-10-10 20:40:41,248] p21995 {3992468325.py:64} INFO - 📁 Saved query result locally as top_block_producers_last7days.csv\n",
      "[2025-10-10 20:40:41,336] p21995 {3992468325.py:68} INFO - Uploaded to s3://athena-erika/data/results/top_block_producers_last7days.csv\n",
      "[2025-10-10 20:40:41,336] p21995 {3992468325.py:70} INFO - ✅ Query completed. Rows: 15\n"
     ]
    },
    {
     "data": {
      "application/vnd.microsoft.datawrangler.viewer.v0+json": {
       "columns": [
        {
         "name": "index",
         "rawType": "int64",
         "type": "integer"
        },
        {
         "name": "miner",
         "rawType": "object",
         "type": "string"
        },
        {
         "name": "blocks_produced",
         "rawType": "int64",
         "type": "integer"
        },
        {
         "name": "total_tx_processed",
         "rawType": "int64",
         "type": "integer"
        },
        {
         "name": "avg_gas_per_block",
         "rawType": "float64",
         "type": "float"
        },
        {
         "name": "estimated_base_rewards_eth",
         "rawType": "int64",
         "type": "integer"
        },
        {
         "name": "base_fees_burned_eth",
         "rawType": "float64",
         "type": "float"
        }
       ],
       "ref": "80eb5162-b194-4e3f-81db-854d451c78bb",
       "rows": [
        [
         "0",
         "0x4838b106fce9647bdf1e7877bf73ce8b0bad5f97",
         "20282",
         "4596752",
         "24640465.13317227",
         "40564",
         "216.12881084138897"
        ],
        [
         "1",
         "0xdadb0d80178819f2319190d340ce9a924f783711",
         "12596",
         "2958879",
         "25517458.632184826",
         "25192",
         "126.69932863053108"
        ],
        [
         "2",
         "0x396343362be2a4da1ce0c1c210945346fb82aa49",
         "2794",
         "529615",
         "19588534.173228346",
         "5588",
         "23.187007019481896"
        ],
        [
         "3",
         "0x95222290dd7278aa3ddd389cc1e1d165cc4bafe5",
         "1557",
         "350816",
         "22752771.038535647",
         "3114",
         "17.417578770549817"
        ],
        [
         "4",
         "0x1f9090aae28b8a3dceadf281b0f12828e676c326",
         "1431",
         "207165",
         "14090597.86163522",
         "2862",
         "4.0105389635653514"
        ]
       ],
       "shape": {
        "columns": 6,
        "rows": 5
       }
      },
      "text/html": [
       "<div>\n",
       "<style scoped>\n",
       "    .dataframe tbody tr th:only-of-type {\n",
       "        vertical-align: middle;\n",
       "    }\n",
       "\n",
       "    .dataframe tbody tr th {\n",
       "        vertical-align: top;\n",
       "    }\n",
       "\n",
       "    .dataframe thead th {\n",
       "        text-align: right;\n",
       "    }\n",
       "</style>\n",
       "<table border=\"1\" class=\"dataframe\">\n",
       "  <thead>\n",
       "    <tr style=\"text-align: right;\">\n",
       "      <th></th>\n",
       "      <th>miner</th>\n",
       "      <th>blocks_produced</th>\n",
       "      <th>total_tx_processed</th>\n",
       "      <th>avg_gas_per_block</th>\n",
       "      <th>estimated_base_rewards_eth</th>\n",
       "      <th>base_fees_burned_eth</th>\n",
       "    </tr>\n",
       "  </thead>\n",
       "  <tbody>\n",
       "    <tr>\n",
       "      <th>0</th>\n",
       "      <td>0x4838b106fce9647bdf1e7877bf73ce8b0bad5f97</td>\n",
       "      <td>20282</td>\n",
       "      <td>4596752</td>\n",
       "      <td>2.464047e+07</td>\n",
       "      <td>40564</td>\n",
       "      <td>216.128811</td>\n",
       "    </tr>\n",
       "    <tr>\n",
       "      <th>1</th>\n",
       "      <td>0xdadb0d80178819f2319190d340ce9a924f783711</td>\n",
       "      <td>12596</td>\n",
       "      <td>2958879</td>\n",
       "      <td>2.551746e+07</td>\n",
       "      <td>25192</td>\n",
       "      <td>126.699329</td>\n",
       "    </tr>\n",
       "    <tr>\n",
       "      <th>2</th>\n",
       "      <td>0x396343362be2a4da1ce0c1c210945346fb82aa49</td>\n",
       "      <td>2794</td>\n",
       "      <td>529615</td>\n",
       "      <td>1.958853e+07</td>\n",
       "      <td>5588</td>\n",
       "      <td>23.187007</td>\n",
       "    </tr>\n",
       "    <tr>\n",
       "      <th>3</th>\n",
       "      <td>0x95222290dd7278aa3ddd389cc1e1d165cc4bafe5</td>\n",
       "      <td>1557</td>\n",
       "      <td>350816</td>\n",
       "      <td>2.275277e+07</td>\n",
       "      <td>3114</td>\n",
       "      <td>17.417579</td>\n",
       "    </tr>\n",
       "    <tr>\n",
       "      <th>4</th>\n",
       "      <td>0x1f9090aae28b8a3dceadf281b0f12828e676c326</td>\n",
       "      <td>1431</td>\n",
       "      <td>207165</td>\n",
       "      <td>1.409060e+07</td>\n",
       "      <td>2862</td>\n",
       "      <td>4.010539</td>\n",
       "    </tr>\n",
       "  </tbody>\n",
       "</table>\n",
       "</div>"
      ],
      "text/plain": [
       "                                        miner  blocks_produced  \\\n",
       "0  0x4838b106fce9647bdf1e7877bf73ce8b0bad5f97            20282   \n",
       "1  0xdadb0d80178819f2319190d340ce9a924f783711            12596   \n",
       "2  0x396343362be2a4da1ce0c1c210945346fb82aa49             2794   \n",
       "3  0x95222290dd7278aa3ddd389cc1e1d165cc4bafe5             1557   \n",
       "4  0x1f9090aae28b8a3dceadf281b0f12828e676c326             1431   \n",
       "\n",
       "   total_tx_processed  avg_gas_per_block  estimated_base_rewards_eth  \\\n",
       "0             4596752       2.464047e+07                       40564   \n",
       "1             2958879       2.551746e+07                       25192   \n",
       "2              529615       1.958853e+07                        5588   \n",
       "3              350816       2.275277e+07                        3114   \n",
       "4              207165       1.409060e+07                        2862   \n",
       "\n",
       "   base_fees_burned_eth  \n",
       "0            216.128811  \n",
       "1            126.699329  \n",
       "2             23.187007  \n",
       "3             17.417579  \n",
       "4              4.010539  "
      ]
     },
     "metadata": {},
     "output_type": "display_data"
    },
    {
     "name": "stderr",
     "output_type": "stream",
     "text": [
      "[2025-10-10 20:40:41,342] p21995 {3997627251.py:38} INFO - Data fetched in 3.97s\n"
     ]
    }
   ],
   "source": [
    "query = '''\n",
    "-- Top Block Producers (Validators/Miners)\n",
    "SELECT \n",
    "    miner,\n",
    "    COUNT(*) as blocks_produced,\n",
    "    SUM(transaction_count) as total_tx_processed,\n",
    "    AVG(CAST(gas_used AS DOUBLE)) as avg_gas_per_block,\n",
    "    -- Estimate block rewards (simplified - doesn't include all MEV)\n",
    "    COUNT(*) * 2 as estimated_base_rewards_eth, -- ~2 ETH per block post-merge\n",
    "    SUM(CAST(base_fee_per_gas AS DOUBLE) * CAST(gas_used AS DOUBLE)) / 1e18 as base_fees_burned_eth\n",
    "FROM eth.blocks\n",
    "WHERE date >= DATE_FORMAT(CURRENT_DATE - INTERVAL '7' DAY, '%Y-%m-%d')\n",
    "GROUP BY miner\n",
    "ORDER BY blocks_produced DESC\n",
    "LIMIT 15;\n",
    "'''\n",
    "start_time = time.time()\n",
    "response = athena_client.start_query_execution(\n",
    "    QueryString=query,\n",
    "    QueryExecutionContext={\"Database\": DATABASE_NAME},\n",
    "    ResultConfiguration={\n",
    "        \"OutputLocation\": S3_OUTPUT,\n",
    "        \"EncryptionConfiguration\": {\"EncryptionOption\": \"SSE_S3\"},\n",
    "    },\n",
    ")\n",
    "# ---------------------------------------\n",
    "# Step 1: Preview results (no download)\n",
    "# ---------------------------------------\n",
    "download_and_load_query_results(athena_client, response, download=False)        \n",
    "\n",
    "# ---------------------------------------\n",
    "# Step 2: Ask whether to download\n",
    "# ---------------------------------------\n",
    "confirm = input(\"Download results? (y/n): \").lower()        \n",
    "if confirm == \"y\":\n",
    "    top_block_producers_last7days = download_and_load_query_results(athena_client, response,  filename=\"top_block_producers_last7days\", download=True)  \n",
    "    display(top_block_producers_last7days.head())\n",
    "logger.info(f\"Data fetched in {time.time() - start_time:.2f}s\")"
   ]
  },
  {
   "cell_type": "markdown",
   "id": "7d0afb8c",
   "metadata": {},
   "source": [
    "## 9. Network Congestion & Peak Usage Patterns\n",
    "\n",
    "### When is the network most congested? Identify peak usage times."
   ]
  },
  {
   "cell_type": "code",
   "execution_count": 47,
   "id": "339536cf",
   "metadata": {},
   "outputs": [
    {
     "name": "stderr",
     "output_type": "stream",
     "text": [
      "[2025-10-10 20:45:03,395] p21995 {3992468325.py:34} INFO - ⏳ Waiting for query to finish...\n",
      "[2025-10-10 20:45:06,779] p21995 {3992468325.py:52} INFO - ✅ Query succeeded. Data scanned: 69.81 MB\n",
      "[2025-10-10 20:45:06,781] p21995 {3992468325.py:53} INFO - Output location: s3://athena-erika/data/results/3ebd7c03-b963-41ed-b073-073f89170e35.csv\n",
      "[2025-10-10 20:49:45,324] p21995 {3992468325.py:34} INFO - ⏳ Waiting for query to finish...\n",
      "[2025-10-10 20:49:46,400] p21995 {3992468325.py:64} INFO - 📁 Saved query result locally as network_congestion_patterns_last7days.csv\n",
      "[2025-10-10 20:49:46,811] p21995 {3992468325.py:68} INFO - Uploaded to s3://athena-erika/data/results/network_congestion_patterns_last7days.csv\n",
      "[2025-10-10 20:49:46,812] p21995 {3992468325.py:70} INFO - ✅ Query completed. Rows: 24\n"
     ]
    },
    {
     "data": {
      "application/vnd.microsoft.datawrangler.viewer.v0+json": {
       "columns": [
        {
         "name": "index",
         "rawType": "int64",
         "type": "integer"
        },
        {
         "name": "hour_of_day",
         "rawType": "int64",
         "type": "integer"
        },
        {
         "name": "total_blocks",
         "rawType": "int64",
         "type": "integer"
        },
        {
         "name": "total_transactions",
         "rawType": "int64",
         "type": "integer"
        },
        {
         "name": "avg_utilization_pct",
         "rawType": "float64",
         "type": "float"
        },
        {
         "name": "avg_gas_price_gwei",
         "rawType": "float64",
         "type": "float"
        }
       ],
       "ref": "12e9f065-3ee7-4ad7-8780-ea9ccc26cdaf",
       "rows": [
        [
         "0",
         "0",
         "1793",
         "73479215",
         "54.91063237785339",
         "0.9541000489770068"
        ],
        [
         "1",
         "1",
         "1789",
         "80796247",
         "55.93307434379804",
         "0.9220480374294556"
        ],
        [
         "2",
         "2",
         "1780",
         "78440691",
         "56.53103872722578",
         "0.92702316961803"
        ],
        [
         "3",
         "3",
         "1786",
         "69309014",
         "56.19384386778435",
         "0.8697327606193297"
        ],
        [
         "4",
         "4",
         "1787",
         "60488766",
         "55.76577166988783",
         "0.9390692762056332"
        ]
       ],
       "shape": {
        "columns": 5,
        "rows": 5
       }
      },
      "text/html": [
       "<div>\n",
       "<style scoped>\n",
       "    .dataframe tbody tr th:only-of-type {\n",
       "        vertical-align: middle;\n",
       "    }\n",
       "\n",
       "    .dataframe tbody tr th {\n",
       "        vertical-align: top;\n",
       "    }\n",
       "\n",
       "    .dataframe thead th {\n",
       "        text-align: right;\n",
       "    }\n",
       "</style>\n",
       "<table border=\"1\" class=\"dataframe\">\n",
       "  <thead>\n",
       "    <tr style=\"text-align: right;\">\n",
       "      <th></th>\n",
       "      <th>hour_of_day</th>\n",
       "      <th>total_blocks</th>\n",
       "      <th>total_transactions</th>\n",
       "      <th>avg_utilization_pct</th>\n",
       "      <th>avg_gas_price_gwei</th>\n",
       "    </tr>\n",
       "  </thead>\n",
       "  <tbody>\n",
       "    <tr>\n",
       "      <th>0</th>\n",
       "      <td>0</td>\n",
       "      <td>1793</td>\n",
       "      <td>73479215</td>\n",
       "      <td>54.910632</td>\n",
       "      <td>0.954100</td>\n",
       "    </tr>\n",
       "    <tr>\n",
       "      <th>1</th>\n",
       "      <td>1</td>\n",
       "      <td>1789</td>\n",
       "      <td>80796247</td>\n",
       "      <td>55.933074</td>\n",
       "      <td>0.922048</td>\n",
       "    </tr>\n",
       "    <tr>\n",
       "      <th>2</th>\n",
       "      <td>2</td>\n",
       "      <td>1780</td>\n",
       "      <td>78440691</td>\n",
       "      <td>56.531039</td>\n",
       "      <td>0.927023</td>\n",
       "    </tr>\n",
       "    <tr>\n",
       "      <th>3</th>\n",
       "      <td>3</td>\n",
       "      <td>1786</td>\n",
       "      <td>69309014</td>\n",
       "      <td>56.193844</td>\n",
       "      <td>0.869733</td>\n",
       "    </tr>\n",
       "    <tr>\n",
       "      <th>4</th>\n",
       "      <td>4</td>\n",
       "      <td>1787</td>\n",
       "      <td>60488766</td>\n",
       "      <td>55.765772</td>\n",
       "      <td>0.939069</td>\n",
       "    </tr>\n",
       "  </tbody>\n",
       "</table>\n",
       "</div>"
      ],
      "text/plain": [
       "   hour_of_day  total_blocks  total_transactions  avg_utilization_pct  \\\n",
       "0            0          1793            73479215            54.910632   \n",
       "1            1          1789            80796247            55.933074   \n",
       "2            2          1780            78440691            56.531039   \n",
       "3            3          1786            69309014            56.193844   \n",
       "4            4          1787            60488766            55.765772   \n",
       "\n",
       "   avg_gas_price_gwei  \n",
       "0            0.954100  \n",
       "1            0.922048  \n",
       "2            0.927023  \n",
       "3            0.869733  \n",
       "4            0.939069  "
      ]
     },
     "metadata": {},
     "output_type": "display_data"
    },
    {
     "name": "stderr",
     "output_type": "stream",
     "text": [
      "[2025-10-10 20:49:46,848] p21995 {795599955.py:39} INFO - Data fetched in 283.79s\n"
     ]
    }
   ],
   "source": [
    "query = '''\n",
    "SELECT \n",
    "    HOUR(block_timestamp) AS hour_of_day,\n",
    "    COUNT(DISTINCT b.number) AS total_blocks,\n",
    "    SUM(b.transaction_count) AS total_transactions,\n",
    "    AVG(CAST(b.gas_used AS DOUBLE) / CAST(b.gas_limit AS DOUBLE) * 100) AS avg_utilization_pct,\n",
    "    AVG(CAST(t.gas_price AS DOUBLE) / 1e9) AS avg_gas_price_gwei\n",
    "FROM eth.blocks b\n",
    "LEFT JOIN eth.transactions t \n",
    "    ON b.number = t.block_number \n",
    "    AND b.date = t.date\n",
    "WHERE b.date >= DATE_FORMAT(CURRENT_DATE - INTERVAL '7' DAY, '%Y-%m-%d')\n",
    "  AND block_timestamp IS NOT NULL\n",
    "GROUP BY HOUR(block_timestamp) -- some rows in your dataset have a NULL or invalid block_timestamp.\n",
    "ORDER BY hour_of_day;\n",
    "\n",
    "'''\n",
    "start_time = time.time()\n",
    "response = athena_client.start_query_execution(\n",
    "    QueryString=query,\n",
    "    QueryExecutionContext={\"Database\": DATABASE_NAME},\n",
    "    ResultConfiguration={\n",
    "        \"OutputLocation\": S3_OUTPUT,\n",
    "        \"EncryptionConfiguration\": {\"EncryptionOption\": \"SSE_S3\"},\n",
    "    },\n",
    ")\n",
    "# ---------------------------------------\n",
    "# Step 1: Preview results (no download)\n",
    "# ---------------------------------------\n",
    "download_and_load_query_results(athena_client, response, download=False)        \n",
    "\n",
    "# ---------------------------------------\n",
    "# Step 2: Ask whether to download\n",
    "# ---------------------------------------\n",
    "confirm = input(\"Download results? (y/n): \").lower()\n",
    "if confirm == \"y\":\n",
    "    network_congestion_patterns_last7days = download_and_load_query_results(athena_client, response,  filename=\"network_congestion_patterns_last7days\", download=True)  \n",
    "    display(network_congestion_patterns_last7days.head())\n",
    "logger.info(f\"Data fetched in {time.time() - start_time:.2f}s\")"
   ]
  },
  {
   "cell_type": "markdown",
   "id": "4555545a",
   "metadata": {},
   "source": [
    "# 10. Cross-chain analysis - Compare contract interactions with actual transfers"
   ]
  },
  {
   "cell_type": "code",
   "execution_count": 48,
   "id": "2f2c5221",
   "metadata": {},
   "outputs": [
    {
     "name": "stderr",
     "output_type": "stream",
     "text": [
      "[2025-10-10 20:51:23,861] p21995 {3992468325.py:34} INFO - ⏳ Waiting for query to finish...\n",
      "[2025-10-10 20:57:26,808] p21995 {3992468325.py:52} INFO - ✅ Query succeeded. Data scanned: 14196.07 MB\n",
      "[2025-10-10 20:57:26,817] p21995 {3992468325.py:53} INFO - Output location: s3://athena-erika/data/results/1f09866c-94eb-42d4-ab09-b2435c440153.csv\n",
      "[2025-10-10 20:57:29,840] p21995 {3992468325.py:34} INFO - ⏳ Waiting for query to finish...\n",
      "[2025-10-10 20:57:30,280] p21995 {3992468325.py:64} INFO - 📁 Saved query result locally as top_contracts_by_interaction_last30days.csv\n",
      "[2025-10-10 20:57:30,408] p21995 {3992468325.py:68} INFO - Uploaded to s3://athena-erika/data/results/top_contracts_by_interaction_last30days.csv\n",
      "[2025-10-10 20:57:30,410] p21995 {3992468325.py:70} INFO - ✅ Query completed. Rows: 20\n"
     ]
    },
    {
     "data": {
      "application/vnd.microsoft.datawrangler.viewer.v0+json": {
       "columns": [
        {
         "name": "index",
         "rawType": "int64",
         "type": "integer"
        },
        {
         "name": "contract_address",
         "rawType": "object",
         "type": "string"
        },
        {
         "name": "tx_count",
         "rawType": "int64",
         "type": "integer"
        },
        {
         "name": "log_event_count",
         "rawType": "int64",
         "type": "integer"
        },
        {
         "name": "total_eth_received",
         "rawType": "float64",
         "type": "float"
        },
        {
         "name": "unique_users",
         "rawType": "int64",
         "type": "integer"
        },
        {
         "name": "deployed_at",
         "rawType": "object",
         "type": "string"
        }
       ],
       "ref": "7f05023f-eda6-4d8b-9b56-c030f12a180a",
       "rows": [
        [
         "0",
         "0x28be6260dbb7872de5effc9a4a73c85b7405a8c0",
         "32846",
         "32275",
         "0.0",
         "32148",
         "2025-09-29 13:08:11.000"
        ],
        [
         "1",
         "0x61649cd948e67e15dc76232f751f1f74bf8322a7",
         "15168",
         "13528",
         "38382.11851709183",
         "1",
         "2025-09-22 15:32:11.000"
        ],
        [
         "2",
         "0x0caef4fe947a5767335cce1a64502aefda5a4366",
         "5808",
         "5910",
         "6905.369505551169",
         "3054",
         "2025-09-23 06:59:35.000"
        ],
        [
         "3",
         "0x1178c6a8e2600f0e9bafbc5e5677fe10805f05e3",
         "5183",
         "5085",
         "0.0",
         "5074",
         "2025-09-29 04:32:47.000"
        ],
        [
         "4",
         "0x9db8864888c700779f0131bba8fe03e74ac936c9",
         "2024",
         "3",
         "198.0",
         "11",
         "2025-09-18 09:14:11.000"
        ]
       ],
       "shape": {
        "columns": 6,
        "rows": 5
       }
      },
      "text/html": [
       "<div>\n",
       "<style scoped>\n",
       "    .dataframe tbody tr th:only-of-type {\n",
       "        vertical-align: middle;\n",
       "    }\n",
       "\n",
       "    .dataframe tbody tr th {\n",
       "        vertical-align: top;\n",
       "    }\n",
       "\n",
       "    .dataframe thead th {\n",
       "        text-align: right;\n",
       "    }\n",
       "</style>\n",
       "<table border=\"1\" class=\"dataframe\">\n",
       "  <thead>\n",
       "    <tr style=\"text-align: right;\">\n",
       "      <th></th>\n",
       "      <th>contract_address</th>\n",
       "      <th>tx_count</th>\n",
       "      <th>log_event_count</th>\n",
       "      <th>total_eth_received</th>\n",
       "      <th>unique_users</th>\n",
       "      <th>deployed_at</th>\n",
       "    </tr>\n",
       "  </thead>\n",
       "  <tbody>\n",
       "    <tr>\n",
       "      <th>0</th>\n",
       "      <td>0x28be6260dbb7872de5effc9a4a73c85b7405a8c0</td>\n",
       "      <td>32846</td>\n",
       "      <td>32275</td>\n",
       "      <td>0.000000</td>\n",
       "      <td>32148</td>\n",
       "      <td>2025-09-29 13:08:11.000</td>\n",
       "    </tr>\n",
       "    <tr>\n",
       "      <th>1</th>\n",
       "      <td>0x61649cd948e67e15dc76232f751f1f74bf8322a7</td>\n",
       "      <td>15168</td>\n",
       "      <td>13528</td>\n",
       "      <td>38382.118517</td>\n",
       "      <td>1</td>\n",
       "      <td>2025-09-22 15:32:11.000</td>\n",
       "    </tr>\n",
       "    <tr>\n",
       "      <th>2</th>\n",
       "      <td>0x0caef4fe947a5767335cce1a64502aefda5a4366</td>\n",
       "      <td>5808</td>\n",
       "      <td>5910</td>\n",
       "      <td>6905.369506</td>\n",
       "      <td>3054</td>\n",
       "      <td>2025-09-23 06:59:35.000</td>\n",
       "    </tr>\n",
       "    <tr>\n",
       "      <th>3</th>\n",
       "      <td>0x1178c6a8e2600f0e9bafbc5e5677fe10805f05e3</td>\n",
       "      <td>5183</td>\n",
       "      <td>5085</td>\n",
       "      <td>0.000000</td>\n",
       "      <td>5074</td>\n",
       "      <td>2025-09-29 04:32:47.000</td>\n",
       "    </tr>\n",
       "    <tr>\n",
       "      <th>4</th>\n",
       "      <td>0x9db8864888c700779f0131bba8fe03e74ac936c9</td>\n",
       "      <td>2024</td>\n",
       "      <td>3</td>\n",
       "      <td>198.000000</td>\n",
       "      <td>11</td>\n",
       "      <td>2025-09-18 09:14:11.000</td>\n",
       "    </tr>\n",
       "  </tbody>\n",
       "</table>\n",
       "</div>"
      ],
      "text/plain": [
       "                             contract_address  tx_count  log_event_count  \\\n",
       "0  0x28be6260dbb7872de5effc9a4a73c85b7405a8c0     32846            32275   \n",
       "1  0x61649cd948e67e15dc76232f751f1f74bf8322a7     15168            13528   \n",
       "2  0x0caef4fe947a5767335cce1a64502aefda5a4366      5808             5910   \n",
       "3  0x1178c6a8e2600f0e9bafbc5e5677fe10805f05e3      5183             5085   \n",
       "4  0x9db8864888c700779f0131bba8fe03e74ac936c9      2024                3   \n",
       "\n",
       "   total_eth_received  unique_users              deployed_at  \n",
       "0            0.000000         32148  2025-09-29 13:08:11.000  \n",
       "1        38382.118517             1  2025-09-22 15:32:11.000  \n",
       "2         6905.369506          3054  2025-09-23 06:59:35.000  \n",
       "3            0.000000          5074  2025-09-29 04:32:47.000  \n",
       "4          198.000000            11  2025-09-18 09:14:11.000  "
      ]
     },
     "metadata": {},
     "output_type": "display_data"
    },
    {
     "name": "stderr",
     "output_type": "stream",
     "text": [
      "[2025-10-10 20:57:30,447] p21995 {2446849489.py:44} INFO - Data fetched in 366.94s\n"
     ]
    }
   ],
   "source": [
    "query = '''\n",
    "-- Smart Contracts with Most Interaction (Logs + Transactions)\n",
    "SELECT \n",
    "    c.address as contract_address,\n",
    "    COUNT(DISTINCT t.hash) as tx_count,\n",
    "    COUNT(DISTINCT l.transaction_hash) as log_event_count,\n",
    "    SUM(CAST(t.value AS DOUBLE)) / 1e18 as total_eth_received,\n",
    "    COUNT(DISTINCT t.from_address) as unique_users,\n",
    "    c.block_timestamp as deployed_at\n",
    "FROM eth.contracts c\n",
    "LEFT JOIN eth.transactions t \n",
    "    ON c.address = t.to_address \n",
    "    AND c.date = t.date\n",
    "LEFT JOIN eth.logs l \n",
    "    ON c.address = l.address \n",
    "    AND c.date = l.date\n",
    "WHERE c.date >= DATE_FORMAT(CURRENT_DATE - INTERVAL '30' DAY, '%Y-%m-%d')\n",
    "GROUP BY c.address, c.block_timestamp\n",
    "HAVING COUNT(DISTINCT t.hash) > 10\n",
    "ORDER BY tx_count DESC\n",
    "LIMIT 20;\n",
    "'''\n",
    "start_time = time.time()\n",
    "response = athena_client.start_query_execution(\n",
    "    QueryString=query,\n",
    "    QueryExecutionContext={\"Database\": DATABASE_NAME},\n",
    "    ResultConfiguration={\n",
    "        \"OutputLocation\": S3_OUTPUT,        \n",
    "        \"EncryptionConfiguration\": {\"EncryptionOption\": \"SSE_S3\"},\n",
    "    },\n",
    ")\n",
    "# ---------------------------------------\n",
    "# Step 1: Preview results (no download)\n",
    "# ---------------------------------------\n",
    "download_and_load_query_results(athena_client, response, download=False)    \n",
    "\n",
    "# ---------------------------------------\n",
    "# Step 2: Ask whether to download\n",
    "# ---------------------------------------\n",
    "confirm = input(\"Download results? (y/n): \").lower()\n",
    "if confirm == \"y\":  \n",
    "    top_contracts_by_interaction_last30days = download_and_load_query_results(athena_client, response,  filename=\"top_contracts_by_interaction_last30days\", download=True)  \n",
    "    display(top_contracts_by_interaction_last30days.head())\n",
    "logger.info(f\"Data fetched in {time.time() - start_time:.2f}s\")\n",
    "\n"
   ]
  }
 ],
 "metadata": {
  "kernelspec": {
   "display_name": "Athena Blockchain",
   "language": "python",
   "name": "athena_blockchain"
  },
  "language_info": {
   "codemirror_mode": {
    "name": "ipython",
    "version": 3
   },
   "file_extension": ".py",
   "mimetype": "text/x-python",
   "name": "python",
   "nbconvert_exporter": "python",
   "pygments_lexer": "ipython3",
   "version": "3.12.7"
  }
 },
 "nbformat": 4,
 "nbformat_minor": 5
}
